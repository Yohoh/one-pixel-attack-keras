{
  "cells": [
    {
      "cell_type": "markdown",
      "metadata": {
        "id": "view-in-github",
        "colab_type": "text"
      },
      "source": [
        "<a href=\"https://colab.research.google.com/github/Yohoh/one-pixel-attack-keras/blob/master/one_pixel_attack_cifar10.ipynb\" target=\"_parent\"><img src=\"https://colab.research.google.com/assets/colab-badge.svg\" alt=\"Open In Colab\"/></a>"
      ]
    },
    {
      "cell_type": "markdown",
      "metadata": {
        "id": "tcySPgFgCnuK"
      },
      "source": [
        "# Übung\n",
        "# One Pixel Attack\n",
        "## auf Basis des Cifar10 Datasets\n",
        "\n",
        "### Yannis Heim"
      ]
    },
    {
      "cell_type": "markdown",
      "source": [
        "In diesem Colab Script soll verdeutlicht werden wie ein Angriff gegen ein Image Detection Netzwerk durchgeführt werden kann.\n",
        "Gezeigt wird dies am Beispiel des [One Pixel Attack](https://arxiv.org/abs/1710.08864).\n",
        "\n",
        "Dabei werden die einzelnen Bestandteile, sowie deren Implementierung, genauer erklärt."
      ],
      "metadata": {
        "id": "NGhTm7aJWv-E"
      }
    },
    {
      "cell_type": "markdown",
      "metadata": {
        "id": "iMH2yukYCnuM"
      },
      "source": [
        "![](images/pred2.png \"All it takes is one pixel\")"
      ]
    },
    {
      "cell_type": "markdown",
      "metadata": {
        "id": "BRQuEdmMCnuN"
      },
      "source": [
        "This notebook will demonstrate the one pixel attack with a few different convolutional neural network models. By using differential evolution, we find a special pixel that can modify a target image such that the network misclassifies the image (which it previously correctly classified).\n",
        "\n",
        "In theory, we want models that don't get fooled by such tiny changes. Especially in images, it is undesirable to have a small alteration in the input result in a drastic change in the output. However, even the most accurate neural networks are susceptible to this type of attack."
      ]
    },
    {
      "cell_type": "markdown",
      "source": [
        "### Colab starten"
      ],
      "metadata": {
        "id": "UnYrvG737Kbk"
      }
    },
    {
      "cell_type": "markdown",
      "source": [
        "Bevor wir loslegen können muss sichergesetellt sein dass das Colab Skript mit einer GPU Runtime gestartet wird.\n",
        "Dazu muss der Laufzeittyp geändert werden.\n",
        "\n",
        "Öffnet dazu das Drop-down Menu bei Verbinden und wählt \"Ressourcen ansehen\".\n",
        "Wählt dort \"Laufzeittyp ändern\" aus und stellt dort als Hardwarebeschleunigung GPU und speichert die Einstellung."
      ],
      "metadata": {
        "id": "OPslHCaVbTay"
      }
    },
    {
      "cell_type": "markdown",
      "metadata": {
        "id": "gwvUewWOCnuN"
      },
      "source": [
        "## Imports"
      ]
    },
    {
      "cell_type": "markdown",
      "metadata": {
        "id": "COWR7hM6CnuO"
      },
      "source": [
        "Zuerst müssen einige Imports installiert werden die für den Angriff benötigt werden. Hierbei sind vorallem `numpy`, `pandas`, `scipy`, `matplotlib`, `tensorflow-gpu` und `keras` notwendig.\n",
        "\n",
        "Hierzu könnt ihr die Programm Zelle unten ausführen.\n",
        "Diese Import das Github Repo indem sowohl das KI Netzwerk, als auch Traingsdaten hinterlegt sind.\n",
        "Ebenso werden alle anderen wichtigen Imports getätigt.\n",
        "\n",
        "Der Vorteil von Jupyter Notebooks wie diesem ist es, das eine Zelle nur ein mal ausgeführt werden muss und die Änderungen die diese durchführt in der Laufzeit des Notebooks gespeichert werden.\n",
        "\n",
        "\n",
        "Alternatively, you may [run this notebook in Google Colab](https://colab.research.google.com/drive/1Zq1kGP9C7i-70-SXyuEEaqYngtyQZMn7). Note: colab allows you to run this notebook on GPU, free of charge. Simply select \"GPU\" in the Accelerator drop-down in Notebook Settings (either through the Edit menu or the command palette at cmd/ctrl-shift-P)."
      ]
    },
    {
      "cell_type": "code",
      "execution_count": 41,
      "metadata": {
        "id": "LEP401l7CnuO",
        "outputId": "c1b5cb9c-e96e-4efc-8f9d-cf8810e762b4",
        "colab": {
          "base_uri": "https://localhost:8080/"
        }
      },
      "outputs": [
        {
          "output_type": "stream",
          "name": "stdout",
          "text": [
            "Cloning into 'one-pixel-attack-keras'...\n",
            "remote: Enumerating objects: 399, done.\u001b[K\n",
            "remote: Counting objects: 100% (59/59), done.\u001b[K\n",
            "remote: Compressing objects: 100% (57/57), done.\u001b[K\n",
            "remote: Total 399 (delta 33), reused 7 (delta 2), pack-reused 340\u001b[K\n",
            "Receiving objects: 100% (399/399), 45.85 MiB | 37.80 MiB/s, done.\n",
            "Resolving deltas: 100% (231/231), done.\n",
            "renamed 'one-pixel-attack-keras/1_one-pixel-attack-cifar10.ipynb' -> './1_one-pixel-attack-cifar10.ipynb'\n",
            "renamed 'one-pixel-attack-keras/2_one-pixel-attack-imagenet.ipynb' -> './2_one-pixel-attack-imagenet.ipynb'\n",
            "renamed 'one-pixel-attack-keras/attack.py' -> './attack.py'\n",
            "renamed 'one-pixel-attack-keras/CONTRIBUTING.md' -> './CONTRIBUTING.md'\n",
            "mv: cannot move 'one-pixel-attack-keras/data' to './data': Directory not empty\n",
            "renamed 'one-pixel-attack-keras/differential_evolution.py' -> './differential_evolution.py'\n",
            "renamed 'one-pixel-attack-keras/helper.py' -> './helper.py'\n",
            "mv: cannot move 'one-pixel-attack-keras/images' to './images': Directory not empty\n",
            "renamed 'one-pixel-attack-keras/LICENSE' -> './LICENSE'\n",
            "mv: cannot move 'one-pixel-attack-keras/networks' to './networks': Directory not empty\n",
            "renamed 'one-pixel-attack-keras/one_pixel_attack_cifar10.ipynb' -> './one_pixel_attack_cifar10.ipynb'\n",
            "renamed 'one-pixel-attack-keras/README.md' -> './README.md'\n",
            "renamed 'one-pixel-attack-keras/requirements.txt' -> './requirements.txt'\n",
            "renamed 'one-pixel-attack-keras/train.py' -> './train.py'\n"
          ]
        }
      ],
      "source": [
        "# If running in Google Colab, import files\n",
        "try:\n",
        "    import google.colab\n",
        "    in_colab = True\n",
        "except:\n",
        "    in_colab = False\n",
        "\n",
        "if in_colab:\n",
        "    !git clone https://github.com/Yohoh/one-pixel-attack-keras.git\n",
        "    !mv -v one-pixel-attack-keras/* .\n",
        "    !rm -rf one-pixel-attack-keras\n",
        "\n",
        "# Python Libraries\n",
        "%matplotlib inline\n",
        "import pickle\n",
        "import numpy as np\n",
        "import pandas as pd\n",
        "import matplotlib\n",
        "from keras.datasets import cifar10\n",
        "from keras import backend as K\n",
        "\n",
        "# Custom Networks\n",
        "from networks.lenet import LeNet\n",
        "from networks.pure_cnn import PureCnn\n",
        "from networks.network_in_network import NetworkInNetwork\n",
        "from networks.resnet import ResNet\n",
        "from networks.densenet import DenseNet\n",
        "from networks.wide_resnet import WideResNet\n",
        "from networks.capsnet import CapsNet\n",
        "\n",
        "# Helper functions\n",
        "from differential_evolution import differential_evolution\n",
        "import helper\n",
        "\n",
        "matplotlib.style.use('ggplot')\n",
        "np.random.seed(100)"
      ]
    },
    {
      "cell_type": "markdown",
      "metadata": {
        "id": "Svg2tf8eCnuQ"
      },
      "source": [
        "## Laden des Cifar10 Datasets"
      ]
    },
    {
      "cell_type": "markdown",
      "metadata": {
        "id": "BD88Dy5JCnuQ"
      },
      "source": [
        "Für unseren Angriff wird das [Cifar10 Dataset](https://www.cs.toronto.edu/~kriz/cifar.html) verwendet, was bereits in ``Keras`` enthalten ist.\n",
        "\n",
        "Dieses Dataset enthält 32x32 Pixel große Bilder die einer von 10 Kategorien zugeordnet ist.\n",
        "\n",
        "Der unten gezeigte Code lädt dieses Datenset.\n",
        "\n",
        "``x`` beschreibt hierbei die einzelnen Bilder als multidimensionale Arrays.\n",
        "\n",
        "``y`` beschreibt die dazugehörigen Labels wie ``bird``.\n",
        "\n",
        "Das ``train`` und ``test`` steht für jeweils für Untergruppen des Datasets. Alle Bilder und Labels die in ``train`` enthalten sind, werden für das Training des Netzwerks verwendet.\n",
        "``test`` enthält Bilder die zum Validieren der Performance verwendet werden. Diese hat die KI \"noch nicht gesehen\".\n",
        "\n",
        "Dies ist eine weitverbreitete Konvention.\n",
        "\n",
        "Die zwei folgenden Codezeilen laden das Datenset und erstellt eine Liste aller Labels."
      ]
    },
    {
      "cell_type": "code",
      "execution_count": 2,
      "metadata": {
        "id": "pj0TFX5iCnuQ",
        "colab": {
          "base_uri": "https://localhost:8080/"
        },
        "outputId": "dfde066b-95b0-4bff-f8eb-2f718bdb5dbf"
      },
      "outputs": [
        {
          "output_type": "stream",
          "name": "stdout",
          "text": [
            "Downloading data from https://www.cs.toronto.edu/~kriz/cifar-10-python.tar.gz\n",
            "170498071/170498071 [==============================] - 2s 0us/step\n"
          ]
        }
      ],
      "source": [
        "(x_train, y_train), (x_test, y_test) = cifar10.load_data()"
      ]
    },
    {
      "cell_type": "code",
      "execution_count": 3,
      "metadata": {
        "id": "XwSwEONRCnuQ"
      },
      "outputs": [],
      "source": [
        "class_names = ['airplane', 'automobile', 'bird', 'cat', 'deer', 'dog', 'frog', 'horse', 'ship', 'truck']"
      ]
    },
    {
      "cell_type": "markdown",
      "metadata": {
        "id": "WY7RrS21CnuR"
      },
      "source": [
        "Nun können wir ein Bild exemplarisch anzeigen indem wir den Index des ``x`` Arrays verwenden (dabei ist die erste Dimension des Arrays die Nummer des Bildes im Datenset).\n",
        "\n",
        "In diesem Fall ein Pferd."
      ]
    },
    {
      "cell_type": "code",
      "execution_count": 4,
      "metadata": {
        "id": "SnTuVEMQCnuR",
        "outputId": "16b0936c-7397-4f4f-eb1c-bf5a2cafc878",
        "colab": {
          "base_uri": "https://localhost:8080/",
          "height": 252
        }
      },
      "outputs": [
        {
          "output_type": "display_data",
          "data": {
            "text/plain": [
              "<Figure size 432x288 with 1 Axes>"
            ],
            "image/png": "[encoded data removed]"
          },
          "metadata": {}
        }
      ],
      "source": [
        "image_id = 99 # Index des Bildes aus Testset das geladen werden soll (gerne ändern um euch ander Bilder anzusehen)\n",
        "helper.plot_image(x_test[image_id])"
      ]
    },
    {
      "cell_type": "markdown",
      "metadata": {
        "id": "8jAkkzldCnuR"
      },
      "source": [
        "## Verändern der Bilder"
      ]
    },
    {
      "cell_type": "markdown",
      "metadata": {
        "id": "JMfebFLtCnuR"
      },
      "source": [
        "Als allererstes brauchen wir eine Funktion die in der Lage ist ein oder mehrere Pixel in einem Bild zu verändern.\n",
        "\n",
        "Dabei kann Jedes Pixel als 5-tupel definiert werden.\n",
        "\n",
        "$$\\textbf{x} = (x, y, r, g, b)$$\n",
        "\n",
        "Dabei sind $x$ und $y$ die Kooridinaten des Pixels im Bild (jeweils von 0 bis 31).\n",
        "\n",
        "$r,g,b$ gibt die Rot, Grün, Blau Werte des Pixels an (jeweils von 0 bis 255).\n",
        "\n",
        "Mehrere dieser Veränderungen können dann wie folgt dargestellt werden:\n",
        "\n",
        "$$X = (x_1, y_1, r_1, g_1, b_1, x_2, y_2, r_2, g_2, b_2, ...)$$\n",
        "\n",
        "Grund für diese Wahl der Konkatenation ist, dass der Optimierungsalgorithmus der später vorgestellt wird einen eindimensionalen Vektor als Eingabe benötigt.\n",
        "\n",
        "Zumsammengefasst bedeutet das, das die Funktion ein Bild sowie den Veränderungsvektor $X$ als Eingabe erhält und als Ausgabe ein Bild produziert welches die selben Dimensionen wie $X$ hat aber ein verändertes Pixel an der Stelle $x_i,y_i$ mit den neuen Farbwerten $r_i,g_i,b_i$ aufweist.\n",
        "\n",
        "Um diesen Prozess zu beschleunigen werden mehrere dieser Veränderungen zusammengefasst zu $X_S$.\n"
      ]
    },
    {
      "cell_type": "code",
      "execution_count": 5,
      "metadata": {
        "id": "Z7TRQRuiCnuS"
      },
      "outputs": [],
      "source": [
        "def perturb_image(xs, img):\n",
        "    # wenn nur ein Vektor gegeben wird,\n",
        "    # wird dieser trotzdem in ein Array der Länge 1 gepackt,\n",
        "    # damit die Berechnung gleich bleibt\n",
        "    if xs.ndim < 2:\n",
        "        xs = np.array([xs])\n",
        "    \n",
        "    # das Bild wird nun so oft kopiert wie es Veränderungen gibt (n==len(xs))\n",
        "    # um die selbe Anzahl an veränderten Bildern zu erhalten (n veränderte Bilder)\n",
        "    tile = [len(xs)] + [1]*(xs.ndim+1)\n",
        "    imgs = np.tile(img, tile)\n",
        "    \n",
        "    # Sichert zu das Inhalt von xs nur aus Integer Werten besteht\n",
        "    xs = xs.astype(int)\n",
        "    \n",
        "    for x,img in zip(xs, imgs):\n",
        "        # nun wird der Veränderungsvektor in seine einzelnen 5-Tupel Bestandteile zerlegt\n",
        "        # z.b. [[x,y,r,g,b],[x2,y2,r2,g2,b2], ...]\n",
        "        pixels = np.split(x, len(x) // 5)\n",
        "        for pixel in pixels:\n",
        "            # nun wird dem Pixel sein neuer RGB Wert zugewiesen\n",
        "            x_pos, y_pos, *rgb = pixel\n",
        "            img[x_pos, y_pos] = rgb\n",
        "    \n",
        "    return imgs"
      ]
    },
    {
      "cell_type": "markdown",
      "metadata": {
        "id": "UqvvHkh8CnuS"
      },
      "source": [
        "Jetzt sind wir in der Lage jedes Pixel eines Bildes zu verändern wie wir wollen.\n",
        "\n",
        "Hier das Beispiel Bild mtit einem veränderten Pixel.\n",
        "Dabei wird das Pixel an der Stelle (16,16) auf die Farbe Gelb gesetzt."
      ]
    },
    {
      "cell_type": "code",
      "execution_count": 6,
      "metadata": {
        "id": "TpEEJBvdCnuS",
        "outputId": "b1bd8321-4f5f-4ea7-907c-f23ec35e73e4",
        "colab": {
          "base_uri": "https://localhost:8080/",
          "height": 252
        }
      },
      "outputs": [
        {
          "output_type": "display_data",
          "data": {
            "text/plain": [
              "<Figure size 432x288 with 1 Axes>"
            ],
            "image/png": "[encoded data removed]"
          },
          "metadata": {}
        }
      ],
      "source": [
        "image_id = 99 # Index des Bildes aus Testset das geladen werden soll\n",
        "pixel = np.array([16, 16, 255, 255, 0]) # pixel = x,y,r,g,b\n",
        "image_perturbed = perturb_image(pixel, x_test[image_id])[0]\n",
        "\n",
        "helper.plot_image(image_perturbed)"
      ]
    },
    {
      "cell_type": "markdown",
      "metadata": {
        "id": "h1l2xV87CnuS"
      },
      "source": [
        "## Laden von Vortrainierten KI Modellen"
      ]
    },
    {
      "cell_type": "markdown",
      "metadata": {
        "id": "sMpkMJpHCnuT"
      },
      "source": [
        "Um übehaupt einen Angriff auszuführen, brauchen wir erst ein KI Netzwerk.\n",
        "Dieses ist hier bereits auf das Cifar10 Dataset trainiert.\n",
        "\n",
        "Hier sind 2 Netzwerke enthalten, LeNet und ResNet.\n",
        "Diese sind recht simple, für Demonstrationszwecke aber ausreichend.\n",
        "\n",
        "Die Funktionsweise ist bei komplexeren Netzwerken identisch, allerdings wird deutlich mehr Zeit und Rechenleistung benötigt um ein Bild erfolgreich zu manipulieren."
      ]
    },
    {
      "cell_type": "code",
      "execution_count": 7,
      "metadata": {
        "id": "54QazdCcCnuT",
        "outputId": "66378e30-0b46-4a40-fdfc-49cd5371a970",
        "colab": {
          "base_uri": "https://localhost:8080/"
        }
      },
      "outputs": [
        {
          "output_type": "stream",
          "name": "stdout",
          "text": [
            "Successfully loaded lenet\n",
            "Successfully loaded resnet\n"
          ]
        }
      ],
      "source": [
        "lenet = LeNet()\n",
        "resnet = ResNet()\n",
        "\n",
        "models = [lenet, resnet]"
      ]
    },
    {
      "cell_type": "markdown",
      "metadata": {
        "id": "6VZSSUiCCnuT"
      },
      "source": [
        "### Berechnung der Genauigkeit der Modelle"
      ]
    },
    {
      "cell_type": "markdown",
      "metadata": {
        "id": "EUTTiB-2CnuU"
      },
      "source": [
        "Nach dem Laden können wir nun Validieren wie gut diese Netzwerke Bilder aus dem Cifar10 Dataset klassifieren können.\n",
        "\n",
        "Damit wir korrekt ermitteln können ob ein Angriff erfolgreich war, ist es nötig das nur Bilder verwendet werden die korrekt erkannt wurden.\n",
        "\n",
        "Dies wird in der folgenden Zelle gemacht. Ebenso wird die Genauigkeit der beiden Netzwerke sowie die Menge an Parameter angegeben die das Netzwerk definieren."
      ]
    },
    {
      "cell_type": "code",
      "execution_count": 8,
      "metadata": {
        "scrolled": false,
        "id": "Y147QD_ICnuU",
        "outputId": "fe024c60-f658-4eef-902f-099e6f9f9ada",
        "colab": {
          "base_uri": "https://localhost:8080/",
          "height": 182
        }
      },
      "outputs": [
        {
          "output_type": "stream",
          "name": "stdout",
          "text": [
            "Evaluating lenet\n",
            "79/79 [==============================] - 7s 3ms/step\n",
            "Evaluating resnet\n",
            "79/79 [==============================] - 2s 12ms/step\n"
          ]
        },
        {
          "output_type": "execute_result",
          "data": {
            "text/plain": [
              "     name  accuracy  param_count\n",
              "0   lenet    0.7488        62006\n",
              "1  resnet    0.9231       470218"
            ],
            "text/html": [
              "\n",
              "  <div id=\"df-ce22926f-5ac7-4701-9ac5-6c6e2353e1d3\">\n",
              "    <div class=\"colab-df-container\">\n",
              "      <div>\n",
              "<style scoped>\n",
              "    .dataframe tbody tr th:only-of-type {\n",
              "        vertical-align: middle;\n",
              "    }\n",
              "\n",
              "    .dataframe tbody tr th {\n",
              "        vertical-align: top;\n",
              "    }\n",
              "\n",
              "    .dataframe thead th {\n",
              "        text-align: right;\n",
              "    }\n",
              "</style>\n",
              "<table border=\"1\" class=\"dataframe\">\n",
              "  <thead>\n",
              "    <tr style=\"text-align: right;\">\n",
              "      <th></th>\n",
              "      <th>name</th>\n",
              "      <th>accuracy</th>\n",
              "      <th>param_count</th>\n",
              "    </tr>\n",
              "  </thead>\n",
              "  <tbody>\n",
              "    <tr>\n",
              "      <th>0</th>\n",
              "      <td>lenet</td>\n",
              "      <td>0.7488</td>\n",
              "      <td>62006</td>\n",
              "    </tr>\n",
              "    <tr>\n",
              "      <th>1</th>\n",
              "      <td>resnet</td>\n",
              "      <td>0.9231</td>\n",
              "      <td>470218</td>\n",
              "    </tr>\n",
              "  </tbody>\n",
              "</table>\n",
              "</div>\n",
              "      <button class=\"colab-df-convert\" onclick=\"convertToInteractive('df-ce22926f-5ac7-4701-9ac5-6c6e2353e1d3')\"\n",
              "              title=\"Convert this dataframe to an interactive table.\"\n",
              "              style=\"display:none;\">\n",
              "        \n",
              "  <svg xmlns=\"http://www.w3.org/2000/svg\" height=\"24px\"viewBox=\"0 0 24 24\"\n",
              "       width=\"24px\">\n",
              "    <path d=\"M0 0h24v24H0V0z\" fill=\"none\"/>\n",
              "    <path d=\"M18.56 5.44l.94 2.06.94-2.06 2.06-.94-2.06-.94-.94-2.06-.94 2.06-2.06.94zm-11 1L8.5 8.5l.94-2.06 2.06-.94-2.06-.94L8.5 2.5l-.94 2.06-2.06.94zm10 10l.94 2.06.94-2.06 2.06-.94-2.06-.94-.94-2.06-.94 2.06-2.06.94z\"/><path d=\"M17.41 7.96l-1.37-1.37c-.4-.4-.92-.59-1.43-.59-.52 0-1.04.2-1.43.59L10.3 9.45l-7.72 7.72c-.78.78-.78 2.05 0 2.83L4 21.41c.39.39.9.59 1.41.59.51 0 1.02-.2 1.41-.59l7.78-7.78 2.81-2.81c.8-.78.8-2.07 0-2.86zM5.41 20L4 18.59l7.72-7.72 1.47 1.35L5.41 20z\"/>\n",
              "  </svg>\n",
              "      </button>\n",
              "      \n",
              "  <style>\n",
              "    .colab-df-container {\n",
              "      display:flex;\n",
              "      flex-wrap:wrap;\n",
              "      gap: 12px;\n",
              "    }\n",
              "\n",
              "    .colab-df-convert {\n",
              "      background-color: #E8F0FE;\n",
              "      border: none;\n",
              "      border-radius: 50%;\n",
              "      cursor: pointer;\n",
              "      display: none;\n",
              "      fill: #1967D2;\n",
              "      height: 32px;\n",
              "      padding: 0 0 0 0;\n",
              "      width: 32px;\n",
              "    }\n",
              "\n",
              "    .colab-df-convert:hover {\n",
              "      background-color: #E2EBFA;\n",
              "      box-shadow: 0px 1px 2px rgba(60, 64, 67, 0.3), 0px 1px 3px 1px rgba(60, 64, 67, 0.15);\n",
              "      fill: #174EA6;\n",
              "    }\n",
              "\n",
              "    [theme=dark] .colab-df-convert {\n",
              "      background-color: #3B4455;\n",
              "      fill: #D2E3FC;\n",
              "    }\n",
              "\n",
              "    [theme=dark] .colab-df-convert:hover {\n",
              "      background-color: #434B5C;\n",
              "      box-shadow: 0px 1px 3px 1px rgba(0, 0, 0, 0.15);\n",
              "      filter: drop-shadow(0px 1px 2px rgba(0, 0, 0, 0.3));\n",
              "      fill: #FFFFFF;\n",
              "    }\n",
              "  </style>\n",
              "\n",
              "      <script>\n",
              "        const buttonEl =\n",
              "          document.querySelector('#df-ce22926f-5ac7-4701-9ac5-6c6e2353e1d3 button.colab-df-convert');\n",
              "        buttonEl.style.display =\n",
              "          google.colab.kernel.accessAllowed ? 'block' : 'none';\n",
              "\n",
              "        async function convertToInteractive(key) {\n",
              "          const element = document.querySelector('#df-ce22926f-5ac7-4701-9ac5-6c6e2353e1d3');\n",
              "          const dataTable =\n",
              "            await google.colab.kernel.invokeFunction('convertToInteractive',\n",
              "                                                     [key], {});\n",
              "          if (!dataTable) return;\n",
              "\n",
              "          const docLinkHtml = 'Like what you see? Visit the ' +\n",
              "            '<a target=\"_blank\" href=https://colab.research.google.com/notebooks/data_table.ipynb>data table notebook</a>'\n",
              "            + ' to learn more about interactive tables.';\n",
              "          element.innerHTML = '';\n",
              "          dataTable['output_type'] = 'display_data';\n",
              "          await google.colab.output.renderOutput(dataTable, element);\n",
              "          const docLink = document.createElement('div');\n",
              "          docLink.innerHTML = docLinkHtml;\n",
              "          element.appendChild(docLink);\n",
              "        }\n",
              "      </script>\n",
              "    </div>\n",
              "  </div>\n",
              "  "
            ]
          },
          "metadata": {},
          "execution_count": 8
        }
      ],
      "source": [
        "network_stats, correct_imgs = helper.evaluate_models(models, x_test, y_test)\n",
        "correct_imgs = pd.DataFrame(correct_imgs, columns=['name', 'img', 'label', 'confidence', 'pred'])\n",
        "network_stats = pd.DataFrame(network_stats, columns=['name', 'accuracy', 'param_count'])\n",
        "\n",
        "network_stats"
      ]
    },
    {
      "cell_type": "markdown",
      "metadata": {
        "id": "Te6_wQw7CnuU"
      },
      "source": [
        "### Vorhersage Funktionalität"
      ]
    },
    {
      "cell_type": "markdown",
      "metadata": {
        "id": "c9j3Ql7JCnuU"
      },
      "source": [
        "Da wir von einem Black-Box Angriff ausgehen, sind für uns nur die Inputs und Outputs eines Netzwerks von Bedeutung.\n",
        "Bei den Outputs sind hier vorallem die Vorhersagen Wahrscheinlichkeiten (prediction Probabilities) wichtig.\n",
        "\n",
        "Diese geben an wie wahrscheinlich unterschiedliche Klassen, nach wissen des Netzwerkes, sind.\n",
        "\n",
        "Sinn der Sache ist, das wir einfach das Netzwerk austauschen können, ohne das wir dadurch unser Vorgehen ändern müssen.\n",
        "\n",
        "Diese Funktion verwendet nun die ``predict`` Funktion eines Keras KI-Modells.\n",
        "In dieser werden nun die Prediction Probalility einer Zielklasse ``target_class`` des Bildes ermittelt. Dieser werd wird auch als Confidence bezeichnet.\n",
        "\n",
        "Ist``target_class`` das korrekte Label, so ist unser Ziel die Confidence des Netzwerkes so weit zu senken, das ein anderes Label als das korrekte erkannt wird.\n",
        "\n",
        "Ist ``target_class`` stattdesen die Klasse, welche an Stelle der korrekten Klasse erkannt werden soll, so wollen wir die Confidence des Netzwerkes erhöhen.\n",
        "Da wir aber die selbe Optimerung für beide Szenarien verwenden, wird in diesem Fall ``1-predictions`` zurückgegeben.\n",
        "\n",
        "Ziel des ganzen ist es in beiden Fällen die Rückgabe dieser Funktion zu minimieren, um eine optimale Lösung (optimale Farbe und Position des veränderten Pixels) zu finden."
      ]
    },
    {
      "cell_type": "code",
      "execution_count": 9,
      "metadata": {
        "id": "sdL9hkjKCnuU"
      },
      "outputs": [],
      "source": [
        "def predict_classes(xs, img, target_class, model, minimize=True):\n",
        "    # Verändern des Bildes mithilfe des Veränderungsvektor xs\n",
        "    imgs_perturbed = perturb_image(xs, img)\n",
        "    # Confidence des Netzwerkes ermittelt, mit welcher das veränderte Bild teil der Zielklasse ist\n",
        "    predictions = model.predict(imgs_perturbed)[:,target_class]\n",
        "    # Diese Funktion wird immer minimiert, deshalb wird falls nötig das Komplement der Confidence zurückgegeben\n",
        "    return predictions if minimize else 1 - predictions"
      ]
    },
    {
      "cell_type": "markdown",
      "metadata": {
        "id": "T_Sm3JBECnuU"
      },
      "source": [
        "Unten wird dieses Verhalten expemplarisch demonstiert.\n",
        "Es wird ein Bild sowie seine Pertubation erstellt und getestet.\n",
        "\n",
        "Es ist zu sehen das die Confidence des Netzwerkes, das dieses Bild einen Vogel zeigt, von ca. 70% auf den Bruchteil eines Prozents gesunken ist.\n",
        "\n",
        "Dies ist ein Beispiel, indem sowohl die Position als auch die Farbe des Pixels bereits optimiert wurden.\n",
        "Ein solches Verhalten ist durch zufällige Auswahl eines Pixels und dessen Farbe nicht zu erwarten."
      ]
    },
    {
      "cell_type": "code",
      "execution_count": 10,
      "metadata": {
        "scrolled": true,
        "id": "zVxMgrKZCnuU",
        "outputId": "1a9febe2-726f-4670-d098-574e8a9e34c6",
        "colab": {
          "base_uri": "https://localhost:8080/",
          "height": 321
        }
      },
      "outputs": [
        {
          "output_type": "stream",
          "name": "stdout",
          "text": [
            "1/1 [==============================] - 0s 127ms/step\n",
            "1/1 [==============================] - 0s 18ms/step\n",
            "Confidence in true class bird is 0.000188873\n",
            "Prior confidence was 0.70661765\n"
          ]
        },
        {
          "output_type": "display_data",
          "data": {
            "text/plain": [
              "<Figure size 432x288 with 1 Axes>"
            ],
            "image/png": "[encoded data removed]"
          },
          "metadata": {}
        }
      ],
      "source": [
        "image_id = 384\n",
        "pixel = np.array([16, 13,  25, 48, 156])\n",
        "model = resnet\n",
        "\n",
        "true_class = y_test[image_id, 0]\n",
        "prior_confidence = model.predict_one(x_test[image_id])[true_class]\n",
        "confidence = predict_classes(pixel, x_test[image_id], true_class, model)[0]\n",
        "\n",
        "print('Confidence in true class', class_names[true_class], 'is', confidence)\n",
        "print('Prior confidence was', prior_confidence)\n",
        "helper.plot_image(perturb_image(pixel, x_test[image_id])[0])"
      ]
    },
    {
      "cell_type": "markdown",
      "metadata": {
        "id": "ufoz2C39CnuV"
      },
      "source": [
        "## Der Angriff"
      ]
    },
    {
      "cell_type": "markdown",
      "metadata": {
        "id": "sEE-zXWACnuV"
      },
      "source": [
        "Nun können wir den eigentlichen Angriff aufbauen."
      ]
    },
    {
      "cell_type": "markdown",
      "metadata": {
        "id": "HCMoeWW_CnuV"
      },
      "source": [
        "### Targeted vs. Untargeted Attacks"
      ]
    },
    {
      "cell_type": "markdown",
      "metadata": {
        "id": "Pw6ku3a4CnuV"
      },
      "source": [
        "Es wird hier zwischen zwei Angriffsarten unterschieden:\n",
        "1. Untargeted Attack\n",
        "2. Targetet Attack"
      ]
    },
    {
      "cell_type": "markdown",
      "source": [
        "Bei Untargetet Attacks (ungezielter Angriff) ist das Ziel ein Bild falsch zu klassifieren. Das heißt wir wollen durch die Veränderung eines oder mehrerer Pixel das Netzwerk dazu bringen, das es das original Bild nicht mehr der richtigen Kategorie zuordnet.\n",
        "Dazu soll die Confidence der korrekten Klasse so weit gesenkt werden das eine beliebige andere Klasse nun als wahrscheinlichste Klasse erkannt wird.\n",
        "Welche Klasse dies ist spielt dabei allerdings keine Rolle.\n",
        "\n",
        "Bei Targetet Attacks (gezielter Angriff) verfolgen wir das Ziel, nicht nur das Bild falsch zu klassifieren, sondern das es eine bestimme Klasse erkennt.\n",
        "Der Unterschied zu untargetet Attacks besteht darin, das wir nicht versuchen die Confidence der korrekten Klasse zu schwächen, sondern die Confidence einer bestimmten anderen Klasse zu stärken.\n",
        "\n",
        "Diese Unterscheidung ist der Grund wieso wir bei ``predict_class()`` Funktion zwei Fälle unterschieden haben."
      ],
      "metadata": {
        "id": "x1heGcd7qxEg"
      }
    },
    {
      "cell_type": "markdown",
      "metadata": {
        "id": "Y7VHgXfkCnuV"
      },
      "source": [
        "### Erfolgskriterium"
      ]
    },
    {
      "cell_type": "markdown",
      "metadata": {
        "id": "ZFGc5AIRCnuV"
      },
      "source": [
        "Nun muss eine Funktion definiert werden, welche angibt ob ein Angriff ein Erfolg war.\n",
        "Die Funktion gibt ``True`` zurück wenn der Angriff erfolgreich war.\n",
        "\n",
        "Da dies abhängig von der Art des Angriffs ist, wird ein ``targeted_attack`` flag verwendet um die zwei Angriffstypen zu unterscheiden."
      ]
    },
    {
      "cell_type": "code",
      "execution_count": 11,
      "metadata": {
        "id": "1VM43auECnuV"
      },
      "outputs": [],
      "source": [
        "def attack_success(x, img, target_class, model, targeted_attack=False, verbose=False):\n",
        "    # Perturb the image with the given pixel(s) and get the prediction of the model\n",
        "    # Verändern des Bildes durch Manipulation von Pixeln\n",
        "    attack_image = perturb_image(x, img)\n",
        "\n",
        "    confidence = model.predict(attack_image)[0]\n",
        "    predicted_class = np.argmax(confidence)\n",
        "    \n",
        "    # gibt nur an wie die Ausgabe erfolgen soll\n",
        "    if verbose:\n",
        "        print('Confidence:', confidence[target_class])\n",
        "    # Wenn die Prediction erreicht hat was unser Ziel ist\n",
        "    # (Targeted oder Untargeted Attack) True zurückgeben\n",
        "    if ((targeted_attack and predicted_class == target_class) or\n",
        "        (not targeted_attack and predicted_class != target_class)):\n",
        "        return True\n",
        "    # ist der Angriff kein Erfolg wird None zurückgegeben, dies wird für die Optimierung wichtig (eigenheit von SciPy)"
      ]
    },
    {
      "cell_type": "markdown",
      "metadata": {
        "id": "U0_Hd8iwCnuV"
      },
      "source": [
        "Unten wird gezeigt wie die Funktion funktioniert.\n",
        "\n",
        "Die Ausgabe ist sehr ähnlich zu ``predict_class()``, allerdings wird ermittelt ob der Angriff erfolgreich war."
      ]
    },
    {
      "cell_type": "code",
      "execution_count": 12,
      "metadata": {
        "id": "mmOXQh2bCnuW",
        "outputId": "001ebca6-627a-415b-970c-98f658e0356e",
        "colab": {
          "base_uri": "https://localhost:8080/",
          "height": 339
        }
      },
      "outputs": [
        {
          "output_type": "stream",
          "name": "stdout",
          "text": [
            "1/1 [==============================] - 0s 19ms/step\n",
            "1/1 [==============================] - 0s 18ms/step\n",
            "Confidence: 0.074600935\n",
            "Prior confidence 0.50054055\n",
            "Attack success: True\n"
          ]
        },
        {
          "output_type": "display_data",
          "data": {
            "text/plain": [
              "<Figure size 432x288 with 1 Axes>"
            ],
            "image/png": "[encoded data removed]"
          },
          "metadata": {}
        }
      ],
      "source": [
        "image_id = 541\n",
        "pixel = np.array([17, 18, 185, 36, 215])\n",
        "model = resnet\n",
        "\n",
        "true_class = y_test[image_id, 0]\n",
        "prior_confidence = model.predict_one(x_test[image_id])[true_class]\n",
        "success = attack_success(pixel, x_test[image_id], true_class, model, verbose=True)\n",
        "\n",
        "print('Prior confidence', prior_confidence)\n",
        "print('Attack success:', success == True)\n",
        "helper.plot_image(perturb_image(pixel, x_test[image_id])[0])"
      ]
    },
    {
      "cell_type": "markdown",
      "metadata": {
        "id": "aSED6i7kCnuW"
      },
      "source": [
        "### Angriffs Funktion"
      ]
    },
    {
      "cell_type": "markdown",
      "metadata": {
        "id": "OfSTSjuDCnuW"
      },
      "source": [
        "Nun fehlt nurnoch die eigentliche Angriffsfunktion die die optimale Position und Farbe des Pixels ermittelt, welches, je nach gewählter Angriffsstrategie, das beste Ergebnis erzielt.\n",
        "\n",
        "Zu erst muss das Optimierungsproblem klar erkenntlich sein. \n",
        "Dies ist hier unsere ``predict_classes`` Funktion, welche ein manipuliertes Bild mit einem entsprechenden Confidence Wert des Image Detection Netzwerks verknüpft.\n",
        "\n",
        "Da es sich hierbei um einen blakc-box Angriff handelt, sind Optimierungsmodelle die auf gradient-descend basieren schwierig umzusetzen, da diese sich darauf verlassen das die \"Kurve\" der zu optmierenden Funktion glatt ist.\n",
        "Da hier aber mit Integerwerten sowohl für die X und Y Positionen des Pixels als auch für desen R, G, B Werte verwendet werden, können wir davon ausgehen das die Optimierungskurve nicht glatt sondern sehr ungleichmäßig sein wird.\n",
        "\n",
        "Man kann sich aber die Funktionsweise wiefolgt vorstellen:\n",
        "\n",
        "Zuerst werden verschiedene Werte für die Parameter (X,Y,R,G,B) getestet und die resultiertende Confidence des Netzwerkes wird ermittelt.\n",
        "\n",
        "Stellt man sich nun jeden Parameter als Dimension im Raum vor so erhält man dann einen Graphen, welche das Optimierungsproblem darstellt.\n",
        "\n",
        "Die Aufgabe des Optimierungsalgorithmus besteht nun darin, in möglichst wenigen Schritten das globale Minimum des Graphen (entlang der Confidence-Achse) zu finden.\n",
        "Das heißt er sucht die perfekten Werte für alle Parameter, bis zu dem Grad an dem wir definiert haben wann er aufhören kann, nämlich wenn der Angriff erfolgreich war.\n",
        "\n",
        "Für dies bei einer unebenen Funktion zu erreichen verwenden wir hier den so genannten [differential evolution](https://en.wikipedia.org/wiki/Differential_evolution) Algorithmus.\n",
        "\n",
        "Das Bild zeigt die Anwendung dieses Algorithmus, zur besseren Vorstellung, für die Optimierung der sogenannten [Ackley function](https://en.wikipedia.org/wiki/Ackley_function). \n",
        "Dabei handelt es sich um ein Optimierungsproblem aus der Mathematik mit nur zwei Inputparametern, weshalb der Graph noch darstellbar ist.\n",
        "\n",
        "\n",
        "<br>\n",
        "\n",
        "![Ackley GIF](https://github.com/hyperparticle/one-pixel-attack-keras/blob/master/images/Ackley.gif?raw=1)\n",
        "\n",
        "<br>\n",
        "\n",
        "\n",
        "Der Differential Evolution Algorithmus ist ein auf Evolution basierender Algorithmus. Hierbei werden Vektoren, welche die einzelnen Parameter enhalten als Input benutzt. \n",
        "\n",
        "Grober Ablauf:\n",
        "\n",
        "1. Zu Beginn werden zufällig eine vordefinierte Menge solcher Vektoren erzeugt\n",
        "2. Zu jedem dieser Vektoren wird dann die Confidence das Image-Detection Modells errechnet.\n",
        "3. Durch Zusammenfügen (Mutation) mehrerer dieser Vektoren werden dann neue Vektoren erzeugt\n",
        "4. schneiden die neuen Vektoren besser ab als Teile der Eltern-Vektoren so ersetzen sie diese\n",
        "5. ab Schritt 2 wiederholen bis das ``attack_success`` Kriterium erfüllt ist\n",
        "\n",
        "Im Fall des One-Pixel Attacks ist der Input ein eindimensionaler Vektor der veränderten Pixel\n",
        "\n",
        "$$X = (x_1, y_1, r_1, g_1, b_1, x_2, y_2, r_2, g_2, b_2, ...)$$\n",
        "\n",
        "Dann muss die erste Generation an zufällig gewählten Pixeln erzeugt werden\n",
        "\n",
        "$$\\textbf{P} = (X_1, X_2, \\dots, X_n)$$\n",
        "\n",
        "Die mutierten Kinder dieser Generation werden erzeugt durch\n",
        "\n",
        "$$X_i = X_{r1} + F (X_{r2} - X_{r3})$$\n",
        "\n",
        "Wobei $r1 \\neq r2 \\neq r3$ erfüllt sein muss. $r1,r2,r3$ stellen dabei zufällig gewählte Indizes der Population $\\textbf{P}$ dar. $F = 0.5$ ist der Mutationsparameter, der angibt wie genau der neue Vektor zusammengesetzt ist.\n",
        "\n",
        "Hier wird eine [leicht angepasst Version](differential_evolution.py) des [Scipy Differential Evolution](https://docs.scipy.org/doc/scipy-0.17.0/reference/generated/scipy.optimize.differential_evolution.html) Algorithmus verwendet um die GPU-Beschleunigung besser nutzbar zu machen.\n"
      ]
    },
    {
      "cell_type": "code",
      "execution_count": 39,
      "metadata": {
        "id": "7rlzqXpqSgrW"
      },
      "outputs": [],
      "source": [
        "def attack(img_id, model, target=None, pixel_count=1, \n",
        "           maxiter=75, popsize=400, verbose=False):\n",
        "    # Zielklasse muss angepasst werden, je nachdem ob targeted oder untargeted attack\n",
        "    targeted_attack = target is not None\n",
        "    target_class = target if targeted_attack else y_test[img_id, 0]\n",
        "    \n",
        "    # der Algorithmus benötigt die Grenzwerte aller Parameter (x,y,r,g,b)\n",
        "    # sollen mehrere Pixel verändert werden wird die bounds liste so oft wiederholt\n",
        "    bounds = [(0,32), (0,32), (0,256), (0,256), (0,256)] * pixel_count\n",
        "    \n",
        "    # Population multiplier, in terms of the size of the perturbation vector x\n",
        "    popmul = max(1, popsize // len(bounds))\n",
        "    \n",
        "    # zuvor erstellte predict_classes als zu optimierende Funktion und attack_succes als Callback umschreiben\n",
        "    def predict_fn(xs):\n",
        "        return predict_classes(xs, x_test[img_id], target_class, \n",
        "                               model, target is None)\n",
        "    \n",
        "    def callback_fn(x, convergence):\n",
        "        return attack_success(x, x_test[img_id], target_class, \n",
        "                              model, targeted_attack, verbose)\n",
        "    \n",
        "    # Aufruf des Differential Evolution Algorithmus\n",
        "    attack_result = differential_evolution(\n",
        "        predict_fn, bounds, maxiter=maxiter, popsize=popmul,\n",
        "        recombination=1, atol=-1, callback=callback_fn, polish=False)\n",
        "\n",
        "    # Nützliche Kennzahlen berechnen\n",
        "    attack_image = perturb_image(attack_result.x, x_test[img_id])[0]\n",
        "    prior_probs = model.predict_one(x_test[img_id])\n",
        "    predicted_probs = model.predict_one(attack_image)\n",
        "    predicted_class = np.argmax(predicted_probs)\n",
        "    actual_class = y_test[img_id, 0]\n",
        "    success = predicted_class != actual_class\n",
        "    cdiff = prior_probs[actual_class] - predicted_probs[actual_class]\n",
        "\n",
        "    # Ergebnisbild nach der Suche ausgeben\n",
        "    helper.plot_image(attack_image, actual_class, class_names, predicted_class)\n",
        "\n",
        "    return [model.name, pixel_count, img_id, actual_class, predicted_class, success, cdiff, prior_probs, predicted_probs, attack_result.x]"
      ]
    },
    {
      "cell_type": "markdown",
      "metadata": {
        "id": "Ir-YPvYTCnuW"
      },
      "source": [
        "#### Untargeted Attack"
      ]
    },
    {
      "cell_type": "markdown",
      "metadata": {
        "id": "620FPYBWCnuW"
      },
      "source": [
        "Nun können wir ein Bild aus unserem Cifar10-Datensatz angreifen!\n",
        "Hier wird ein Bild mit dem untargeted Attack erfolgreich angegriffen.\n",
        "\n",
        "Probiert gerne aus ob ihr andere Bilder erfolgreich manipulieren könnt.\n",
        "Ein erneutes Ausführen der Zelle kann dabei bereits das Ergebnis beeinflussen durch das zufällige Erzeugen erste Population.\n",
        "Man kann ebenso sehen das durch verwenden mehrerer Pixel die Erfolgschance steigt.\n",
        "\n",
        "Man sieht wie die Confidence langsam sinkt, bis zu dem Punkt andem die Klasse falsch klassifiert wird."
      ]
    },
    {
      "cell_type": "code",
      "execution_count": 40,
      "metadata": {
        "scrolled": false,
        "id": "ryWp-byICnuX",
        "outputId": "90adf3c4-19b2-46ab-e03d-5f733453d8a3",
        "colab": {
          "base_uri": "https://localhost:8080/",
          "height": 697
        }
      },
      "outputs": [
        {
          "output_type": "stream",
          "name": "stdout",
          "text": [
            "4/4 [==============================] - 0s 16ms/step\n",
            "4/4 [==============================] - 0s 16ms/step\n",
            "1/1 [==============================] - 0s 24ms/step\n",
            "Confidence: 0.99586475\n",
            "4/4 [==============================] - 0s 16ms/step\n",
            "1/1 [==============================] - 0s 25ms/step\n",
            "Confidence: 0.95431185\n",
            "4/4 [==============================] - 0s 16ms/step\n",
            "1/1 [==============================] - 0s 19ms/step\n",
            "Confidence: 0.5032546\n",
            "4/4 [==============================] - 0s 16ms/step\n",
            "1/1 [==============================] - 0s 20ms/step\n",
            "Confidence: 0.5032546\n",
            "4/4 [==============================] - 0s 16ms/step\n",
            "1/1 [==============================] - 0s 20ms/step\n",
            "Confidence: 0.5032546\n",
            "4/4 [==============================] - 0s 18ms/step\n",
            "1/1 [==============================] - 0s 17ms/step\n",
            "Confidence: 0.5032546\n",
            "4/4 [==============================] - 0s 16ms/step\n",
            "1/1 [==============================] - 0s 18ms/step\n",
            "Confidence: 0.44040605\n",
            "1/1 [==============================] - 0s 18ms/step\n",
            "1/1 [==============================] - 0s 22ms/step\n"
          ]
        },
        {
          "output_type": "display_data",
          "data": {
            "text/plain": [
              "<Figure size 432x288 with 1 Axes>"
            ],
            "image/png": "[encoded data removed]"
          },
          "metadata": {}
        }
      ],
      "source": [
        "image_id = 102\n",
        "pixels = 1 # Anzahl der Pixel die maximal verändert werden dürfen\n",
        "model = resnet\n",
        "\n",
        "_ = attack(image_id, model, pixel_count=pixels, verbose=True)"
      ]
    },
    {
      "cell_type": "markdown",
      "metadata": {
        "id": "x4F_nlDBCnuX"
      },
      "source": [
        "#### Targeted Attack"
      ]
    },
    {
      "cell_type": "markdown",
      "metadata": {
        "id": "7ikOq075CnuX"
      },
      "source": [
        "Bei targeted attacks können wir wählen welche Klasse das Modell zu einem Bild erkennen soll. Diese Aufgabe ist bedeutend schwerer, also sinkt entsprechend die Trefferwahrscheinlichkeit.\n",
        "Hier wird nun versucht die Confidence der Zielklasse über 50% zu heben, da sie durch das überschreiten dieser Schwelle zur wahrscheinlichsten Klasse wird. Dies lässt sich unten beobbachten.\n",
        "\n",
        "Unten wird mit dem ``lenet`` Modell ein Bild von einem ``ship`` als ein ``automobile`` zu klassifizieren.\n",
        "Probiere die Parameter zu ändern um andere Beipiele zu finden und die Funktionsweise besser zu verstehen.\n"
      ]
    },
    {
      "cell_type": "code",
      "execution_count": 16,
      "metadata": {
        "scrolled": false,
        "id": "LWVx7BnbCnuX",
        "outputId": "d3b0c7d6-2d5e-4195-fafb-e355ab05e715",
        "colab": {
          "base_uri": "https://localhost:8080/",
          "height": 1000
        }
      },
      "outputs": [
        {
          "output_type": "stream",
          "name": "stdout",
          "text": [
            "Attacking with target automobile\n",
            "4/4 [==============================] - 0s 12ms/step\n",
            "4/4 [==============================] - 0s 4ms/step\n",
            "1/1 [==============================] - 0s 44ms/step\n",
            "Confidence: 0.0428564\n",
            "4/4 [==============================] - 0s 3ms/step\n",
            "1/1 [==============================] - 0s 14ms/step\n",
            "Confidence: 0.0428564\n",
            "4/4 [==============================] - 0s 5ms/step\n",
            "1/1 [==============================] - 0s 24ms/step\n",
            "Confidence: 0.0428564\n",
            "4/4 [==============================] - 0s 3ms/step\n",
            "1/1 [==============================] - 0s 15ms/step\n",
            "Confidence: 0.0428564\n",
            "4/4 [==============================] - 0s 3ms/step\n",
            "1/1 [==============================] - 0s 14ms/step\n",
            "Confidence: 0.044170912\n",
            "4/4 [==============================] - 0s 3ms/step\n",
            "1/1 [==============================] - 0s 16ms/step\n",
            "Confidence: 0.06923807\n",
            "4/4 [==============================] - 0s 3ms/step\n",
            "1/1 [==============================] - 0s 17ms/step\n",
            "Confidence: 0.07217568\n",
            "4/4 [==============================] - 0s 4ms/step\n",
            "1/1 [==============================] - 0s 22ms/step\n",
            "Confidence: 0.07217568\n",
            "4/4 [==============================] - 0s 3ms/step\n",
            "1/1 [==============================] - 0s 14ms/step\n",
            "Confidence: 0.07217568\n",
            "4/4 [==============================] - 0s 3ms/step\n",
            "1/1 [==============================] - 0s 14ms/step\n",
            "Confidence: 0.07217568\n",
            "4/4 [==============================] - 0s 3ms/step\n",
            "1/1 [==============================] - 0s 19ms/step\n",
            "Confidence: 0.2511525\n",
            "4/4 [==============================] - 0s 6ms/step\n",
            "1/1 [==============================] - 0s 14ms/step\n",
            "Confidence: 0.2511525\n",
            "4/4 [==============================] - 0s 3ms/step\n",
            "1/1 [==============================] - 0s 14ms/step\n",
            "Confidence: 0.2511525\n",
            "4/4 [==============================] - 0s 3ms/step\n",
            "1/1 [==============================] - 0s 16ms/step\n",
            "Confidence: 0.2511525\n",
            "4/4 [==============================] - 0s 3ms/step\n",
            "1/1 [==============================] - 0s 16ms/step\n",
            "Confidence: 0.41160148\n",
            "4/4 [==============================] - 0s 3ms/step\n",
            "1/1 [==============================] - 0s 14ms/step\n",
            "Confidence: 0.41160148\n",
            "4/4 [==============================] - 0s 6ms/step\n",
            "1/1 [==============================] - 0s 16ms/step\n",
            "Confidence: 0.41160148\n",
            "4/4 [==============================] - 0s 3ms/step\n",
            "1/1 [==============================] - 0s 22ms/step\n",
            "Confidence: 0.41160148\n",
            "4/4 [==============================] - 0s 3ms/step\n",
            "1/1 [==============================] - 0s 14ms/step\n",
            "Confidence: 0.41160148\n",
            "4/4 [==============================] - 0s 3ms/step\n",
            "1/1 [==============================] - 0s 17ms/step\n",
            "Confidence: 0.41160148\n",
            "4/4 [==============================] - 0s 3ms/step\n",
            "1/1 [==============================] - 0s 13ms/step\n",
            "Confidence: 0.45679504\n",
            "4/4 [==============================] - 0s 3ms/step\n",
            "1/1 [==============================] - 0s 16ms/step\n",
            "Confidence: 0.45679504\n",
            "4/4 [==============================] - 0s 3ms/step\n",
            "1/1 [==============================] - 0s 14ms/step\n",
            "Confidence: 0.45679504\n",
            "4/4 [==============================] - 0s 5ms/step\n",
            "1/1 [==============================] - 0s 15ms/step\n",
            "Confidence: 0.48030174\n",
            "4/4 [==============================] - 0s 3ms/step\n",
            "1/1 [==============================] - 0s 14ms/step\n",
            "Confidence: 0.5373962\n",
            "1/1 [==============================] - 0s 14ms/step\n",
            "1/1 [==============================] - 0s 15ms/step\n"
          ]
        },
        {
          "output_type": "display_data",
          "data": {
            "text/plain": [
              "<Figure size 432x288 with 1 Axes>"
            ],
            "image/png": "[encoded data removed]"
          },
          "metadata": {}
        }
      ],
      "source": [
        "image_id = 108\n",
        "target_class = 1 # Integer Wert zwischen 0-9\n",
        "pixels = 3\n",
        "model = lenet\n",
        "\n",
        "print('Attacking with target', class_names[target_class])\n",
        "_ = attack(image_id, model, target_class, pixel_count=pixels, verbose=True)"
      ]
    },
    {
      "cell_type": "markdown",
      "metadata": {
        "id": "-LJJ4tnHCnuZ"
      },
      "source": [
        "## Conclusions"
      ]
    },
    {
      "cell_type": "markdown",
      "metadata": {
        "id": "Fa8kav8kCnuZ"
      },
      "source": [
        "Es ist nicht sonderlich schwierig einen solchen Angriff aufzubauen, wie oben zu sehen ist. Um nun allerdings das gesammte Cifar10 Datenset anzugreifen um zu ermitteln wie robust die enthaltenen Bilder sind, sind große Mengen an Rechenresourcen und Zeit nötig. Deshalb wird dieser \"letzte\" Schritt in dieser Übung nicht näher betrachtet.\n",
        "\n",
        "Würde man ihn durchführen würde sichtbar, das die Genauigkeit des Netzwerks keine starke Korellation zu der Erfolgrate des Angriffs besitzt.\n"
      ]
    },
    {
      "cell_type": "markdown",
      "metadata": {
        "id": "-prWAhbYCnuZ"
      },
      "source": [
        "## Quellen\n",
        "- Diese Implementierung ist eine übersetze und stark angepasste Version der Implementierung von Dan Kondratyuk https://github.com/Hyperparticle/one-pixel-attack-keras\n",
        "- Due Implementierung basiert auf dem Paper welches One-Pixel Attacks beschreibt: https://arxiv.org/abs/1710.08864\n",
        "- Keras Cifar10 models: https://github.com/BIGBALLON/cifar-10-cnn\n",
        "- Scipy's differential evolution Implementierung: https://docs.scipy.org/doc/scipy/reference/generated/scipy.optimize.differential_evolution.html?highlight=differential%20evolution"
      ]
    }
  ],
  "metadata": {
    "kernelspec": {
      "display_name": "Python 3",
      "language": "python",
      "name": "python3"
    },
    "language_info": {
      "codemirror_mode": {
        "name": "ipython",
        "version": 3
      },
      "file_extension": ".py",
      "mimetype": "text/x-python",
      "name": "python",
      "nbconvert_exporter": "python",
      "pygments_lexer": "ipython3",
      "version": "3.7.1"
    },
    "colab": {
      "provenance": [],
      "include_colab_link": true
    },
    "accelerator": "GPU",
    "gpuClass": "standard"
  },
  "nbformat": 4,
  "nbformat_minor": 0
}