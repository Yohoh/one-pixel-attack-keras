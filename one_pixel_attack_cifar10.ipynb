{
  "cells": [
    {
      "cell_type": "markdown",
      "metadata": {
        "id": "view-in-github",
        "colab_type": "text"
      },
      "source": [
        "<a href=\"https://colab.research.google.com/github/Yohoh/one-pixel-attack-keras/blob/master/one_pixel_attack_cifar10.ipynb\" target=\"_parent\"><img src=\"https://colab.research.google.com/assets/colab-badge.svg\" alt=\"Open In Colab\"/></a>"
      ]
    },
    {
      "cell_type": "markdown",
      "metadata": {
        "id": "tcySPgFgCnuK"
      },
      "source": [
        "# Übung\n",
        "# One Pixel Attack\n",
        "## auf Basis des Cifar10 Datasets\n",
        "\n",
        "### Yannis Heim"
      ]
    },
    {
      "cell_type": "markdown",
      "source": [
        "# Teil 1"
      ],
      "metadata": {
        "id": "EZEljX_oWpSH"
      }
    },
    {
      "cell_type": "markdown",
      "source": [
        "In diesem Colab Script soll verdeutlicht werden wie ein Angriff gegen ein Image Classifier Netzwerk durchgeführt werden kann.\n",
        "Gezeigt wird dies am Beispiel des [One Pixel Attack](https://arxiv.org/abs/1710.08864).\n",
        "\n",
        "Dabei werden die einzelnen Bestandteile, sowie deren Implementierung, genauer erklärt."
      ],
      "metadata": {
        "id": "NGhTm7aJWv-E"
      }
    },
    {
      "cell_type": "markdown",
      "metadata": {
        "id": "iMH2yukYCnuM"
      },
      "source": [
        "![](images/pred2.png \"All it takes is one pixel\")"
      ]
    },
    {
      "cell_type": "markdown",
      "source": [
        "## Colab starten"
      ],
      "metadata": {
        "id": "UnYrvG737Kbk"
      }
    },
    {
      "cell_type": "markdown",
      "source": [
        "Da in diesem Skript zum Teil Code ausgeführt wird, welcher Leistungsintensiv ist, sollte das Skript mit GPU Hardwarebeschleunigung ausgeführt werden.\n",
        "Dazu muss der Laufzeittyp geändert werden.\n",
        "\n",
        "Öffnet dazu das Drop-down Menu bei Verbinden und wählt \"Ressourcen ansehen\".\n",
        "Wählt dort \"Laufzeittyp ändern\" aus und stellt dort die Hardwarebeschleunigung auf GPU und speichert die Einstellung."
      ],
      "metadata": {
        "id": "OPslHCaVbTay"
      }
    },
    {
      "cell_type": "markdown",
      "metadata": {
        "id": "gwvUewWOCnuN"
      },
      "source": [
        "## Imports"
      ]
    },
    {
      "cell_type": "markdown",
      "metadata": {
        "id": "COWR7hM6CnuO"
      },
      "source": [
        "Zuerst müssen einige Imports installiert werden die für das Skript benötigt werden.\n",
        "\n",
        "Führt dazu den Code unter diesem Text aus. \n",
        "Dabei wird ein GitHub Repo gecloned, indem benötigte Methoden und KI Modelle hinterlegt sind.\n",
        "Ebenso werden alle anderen wichtigen Imports getätigt.\n",
        "\n",
        "Der Vorteil von Jupyter Notebooks wie diesem ist es, das eine Zelle nur ein mal ausgeführt werden muss und die Änderungen die diese durchführt in der Laufzeit des Notebooks gespeichert wird."
      ]
    },
    {
      "cell_type": "code",
      "execution_count": 1,
      "metadata": {
        "id": "LEP401l7CnuO",
        "outputId": "84c1145f-7e92-497c-8ed8-8d63c119fcb3",
        "colab": {
          "base_uri": "https://localhost:8080/"
        }
      },
      "outputs": [
        {
          "output_type": "stream",
          "name": "stdout",
          "text": [
            "Cloning into 'one-pixel-attack-keras'...\n",
            "remote: Enumerating objects: 409, done.\u001b[K\n",
            "remote: Counting objects: 100% (69/69), done.\u001b[K\n",
            "remote: Compressing objects: 100% (67/67), done.\u001b[K\n",
            "remote: Total 409 (delta 40), reused 7 (delta 2), pack-reused 340\u001b[K\n",
            "Receiving objects: 100% (409/409), 45.88 MiB | 17.52 MiB/s, done.\n",
            "Resolving deltas: 100% (238/238), done.\n",
            "renamed 'one-pixel-attack-keras/1_one-pixel-attack-cifar10.ipynb' -> './1_one-pixel-attack-cifar10.ipynb'\n",
            "renamed 'one-pixel-attack-keras/2_one-pixel-attack-imagenet.ipynb' -> './2_one-pixel-attack-imagenet.ipynb'\n",
            "renamed 'one-pixel-attack-keras/attack.py' -> './attack.py'\n",
            "renamed 'one-pixel-attack-keras/CONTRIBUTING.md' -> './CONTRIBUTING.md'\n",
            "renamed 'one-pixel-attack-keras/data' -> './data'\n",
            "renamed 'one-pixel-attack-keras/differential_evolution.py' -> './differential_evolution.py'\n",
            "renamed 'one-pixel-attack-keras/helper.py' -> './helper.py'\n",
            "renamed 'one-pixel-attack-keras/images' -> './images'\n",
            "renamed 'one-pixel-attack-keras/LICENSE' -> './LICENSE'\n",
            "renamed 'one-pixel-attack-keras/networks' -> './networks'\n",
            "renamed 'one-pixel-attack-keras/one_pixel_attack_cifar10.ipynb' -> './one_pixel_attack_cifar10.ipynb'\n",
            "renamed 'one-pixel-attack-keras/README.md' -> './README.md'\n",
            "renamed 'one-pixel-attack-keras/requirements.txt' -> './requirements.txt'\n",
            "renamed 'one-pixel-attack-keras/train.py' -> './train.py'\n"
          ]
        }
      ],
      "source": [
        "try:\n",
        "    import google.colab\n",
        "    in_colab = True\n",
        "except:\n",
        "    in_colab = False\n",
        "\n",
        "if in_colab:\n",
        "    !git clone https://github.com/Yohoh/one-pixel-attack-keras.git\n",
        "    !mv -v one-pixel-attack-keras/* .\n",
        "    !rm -rf one-pixel-attack-keras\n",
        "\n",
        "# Python Libraries\n",
        "%matplotlib inline\n",
        "import pickle\n",
        "import numpy as np\n",
        "import pandas as pd\n",
        "import matplotlib\n",
        "from keras.datasets import cifar10\n",
        "from keras import backend as K\n",
        "\n",
        "# Vortrainierte Netzwerke\n",
        "from networks.lenet import LeNet\n",
        "from networks.resnet import ResNet\n",
        "\n",
        "# Hilfsfunktionen\n",
        "from differential_evolution import differential_evolution\n",
        "import helper\n",
        "\n",
        "matplotlib.style.use('ggplot')\n",
        "np.random.seed(100)"
      ]
    },
    {
      "cell_type": "markdown",
      "metadata": {
        "id": "Svg2tf8eCnuQ"
      },
      "source": [
        "## Laden des Cifar10 Datasets"
      ]
    },
    {
      "cell_type": "markdown",
      "metadata": {
        "id": "BD88Dy5JCnuQ"
      },
      "source": [
        "Für unseren Angriff wird das [Cifar10 Dataset](https://www.cs.toronto.edu/~kriz/cifar.html) verwendet. Dieses Dataset enthält 32x32 Pixel große Bilder die einer von 10 Kategorien zugeordnet ist.\n",
        "\n",
        "Der unten gezeigte Code lädt dieses Datenset.\n",
        "\n",
        "``x`` enthält hierbei die einzelnen Bilder als multidimensionale Arrays.\n",
        "\n",
        "``y`` beschreibt die dazugehörigen Labels wie ``bird``.\n",
        "\n",
        "Das `train` und `test` stehen jeweils für Untergruppen des Datensets.\n",
        "Hier werden wir nur Daten aus dem `test` Datenset verwenden, da die verwendeten Neuronalen Netzwerke bereits vortrainiert wurden."
      ]
    },
    {
      "cell_type": "code",
      "execution_count": 2,
      "metadata": {
        "id": "pj0TFX5iCnuQ",
        "colab": {
          "base_uri": "https://localhost:8080/"
        },
        "outputId": "5bb4866f-4317-4633-d0ef-0b7bd5ca7cd0"
      },
      "outputs": [
        {
          "output_type": "stream",
          "name": "stdout",
          "text": [
            "Downloading data from https://www.cs.toronto.edu/~kriz/cifar-10-python.tar.gz\n",
            "170498071/170498071 [==============================] - 11s 0us/step\n"
          ]
        }
      ],
      "source": [
        "(x_train, y_train), (x_test, y_test) = cifar10.load_data()"
      ]
    },
    {
      "cell_type": "markdown",
      "source": [
        "Hier werden die 10 Labels der Kategorien des Cifar10 Datensets geladen."
      ],
      "metadata": {
        "id": "Acp6dGX8iyCT"
      }
    },
    {
      "cell_type": "code",
      "execution_count": 3,
      "metadata": {
        "id": "XwSwEONRCnuQ"
      },
      "outputs": [],
      "source": [
        "class_names = ['airplane', 'automobile', 'bird', 'cat', 'deer', 'dog', 'frog', 'horse', 'ship', 'truck']"
      ]
    },
    {
      "cell_type": "markdown",
      "metadata": {
        "id": "WY7RrS21CnuR"
      },
      "source": [
        "Mithilfe der `helper` Funktion können wir nun Bilder anzeigen lassen, indem wir mithilfe eines Indeces auf das `x_test` Arrays zugreifen.\n",
        "\n",
        "Zulässig sind Indices von 0 bis 9999."
      ]
    },
    {
      "cell_type": "code",
      "execution_count": 7,
      "metadata": {
        "id": "SnTuVEMQCnuR",
        "outputId": "4e25ebf4-feb4-464b-db64-4885f93a4b06",
        "colab": {
          "base_uri": "https://localhost:8080/",
          "height": 252
        }
      },
      "outputs": [
        {
          "output_type": "display_data",
          "data": {
            "text/plain": [
              "<Figure size 432x288 with 1 Axes>"
            ],
            "image/png": "[encoded data removed]"
          },
          "metadata": {}
        }
      ],
      "source": [
        "image_id = 99 # Index des Bildes aus Testset das geladen werden soll\n",
        "helper.plot_image(x_test[image_id])"
      ]
    },
    {
      "cell_type": "markdown",
      "metadata": {
        "id": "8jAkkzldCnuR"
      },
      "source": [
        "## Pixelmanipulation"
      ]
    },
    {
      "cell_type": "markdown",
      "metadata": {
        "id": "JMfebFLtCnuR"
      },
      "source": [
        "Als allererstes brauchen wir eine Funktion die in der Lage ist Pixel in einem Bild zu verändern.\n",
        "\n",
        "Hierzu wird jedes Pixel als 5-tupel definiert.\n",
        "\n",
        "$$\\textbf{x} = (x, y, r, g, b)$$\n",
        "\n",
        "Dabei sind $x$ und $y$ die Kooridinaten des Pixels im Bild (jeweils von 0 bis 31). $r,g,b$ geben die Farbwerte des Pixels an (jeweils von 0 bis 255).\n",
        "\n",
        "Mehrere dieser Veränderungen, auch Pertubations genannt, werden wie folgt erzeugt:\n",
        "\n",
        "$$X = (x_1, y_1, r_1, g_1, b_1, x_2, y_2, r_2, g_2, b_2, ...)$$\n",
        "\n",
        "Grund dafür ist, dass der Optimierungsalgorithmus, der später vorgestellt wird einen eindimensionales Array als Eingabe erwartet.\n",
        "\n",
        "Zumsammengefasst bedeutet das, das die Funktion ein Bild sowie den Pertubationvektor $X$ als Eingabe erhält und als Ausgabe ein Bild produziert welches die veränderten Pixel enthält.\n",
        "\n",
        "Da es später notwendig ist, dass aus einem Bild viele Versionen mit unterschiedlichen Pixelmanipulationen erzeugt werden, werden mehrere Pertubations zu $X_S$ zusammengefasst.\n"
      ]
    },
    {
      "cell_type": "code",
      "execution_count": 8,
      "metadata": {
        "id": "Z7TRQRuiCnuS"
      },
      "outputs": [],
      "source": [
        "def perturb_image(xs, img):\n",
        "    # wenn nur ein Vektor gegeben wird,\n",
        "    # wird dieser trotzdem in ein Array der Länge 1 gepackt,\n",
        "    # damit die Berechnung gleich bleibt\n",
        "    if xs.ndim < 2:\n",
        "        xs = np.array([xs])\n",
        "    \n",
        "    # das Bild wird nun so oft kopiert wie es Veränderungen gibt (n==len(xs))\n",
        "    # um die selbe Anzahl an veränderten Bildern zu erhalten (n veränderte Bilder)\n",
        "    tile = [len(xs)] + [1]*(xs.ndim+1)\n",
        "    imgs = np.tile(img, tile)\n",
        "    \n",
        "    # Sichert zu das Inhalt von xs nur aus Integer Werten besteht\n",
        "    xs = xs.astype(int)\n",
        "    \n",
        "    for x,img in zip(xs, imgs):\n",
        "        # nun wird der Veränderungsvektor in seine einzelnen 5-Tupel Bestandteile zerlegt\n",
        "        # z.b. [[x,y,r,g,b],[x2,y2,r2,g2,b2], ...]\n",
        "        pixels = np.split(x, len(x) // 5)\n",
        "        for pixel in pixels:\n",
        "            # nun wird dem Pixel sein neuer RGB Wert zugewiesen\n",
        "            x_pos, y_pos, *rgb = pixel\n",
        "            img[x_pos, y_pos] = rgb\n",
        "    \n",
        "    return imgs"
      ]
    },
    {
      "cell_type": "markdown",
      "metadata": {
        "id": "UqvvHkh8CnuS"
      },
      "source": [
        "Jetzt sind wir in der Lage jedes Pixel eines Bildes zu verändern wie wir wollen."
      ]
    },
    {
      "cell_type": "code",
      "execution_count": 11,
      "metadata": {
        "id": "TpEEJBvdCnuS",
        "outputId": "ddb33ba4-32dd-4a1c-a20b-dfba4890d6e8",
        "colab": {
          "base_uri": "https://localhost:8080/",
          "height": 252
        }
      },
      "outputs": [
        {
          "output_type": "display_data",
          "data": {
            "text/plain": [
              "<Figure size 432x288 with 1 Axes>"
            ],
            "image/png": "[encoded data removed]"
          },
          "metadata": {}
        }
      ],
      "source": [
        "image_id = 99\n",
        "pixel = np.array([16, 16, 255, 255, 0]) # pixel = x,y,r,g,b\n",
        "image_perturbed = perturb_image(pixel, x_test[image_id])[0]\n",
        "\n",
        "helper.plot_image(image_perturbed)"
      ]
    },
    {
      "cell_type": "markdown",
      "metadata": {
        "id": "h1l2xV87CnuS"
      },
      "source": [
        "## Laden von Vortrainierten KI Modellen"
      ]
    },
    {
      "cell_type": "markdown",
      "metadata": {
        "id": "sMpkMJpHCnuT"
      },
      "source": [
        "Um übehaupt einen Angriff auszuführen, brauchen wir erst ein KI Netzwerk.\n",
        "Diese sind hier bereits auf das Cifar10 Datenset trainiert.\n",
        "\n",
        "Hier sind 2 Netzwerke enthalten, LeNet und ResNet."
      ]
    },
    {
      "cell_type": "code",
      "execution_count": 12,
      "metadata": {
        "id": "54QazdCcCnuT",
        "outputId": "f438c62f-c109-48ca-d626-190f61550640",
        "colab": {
          "base_uri": "https://localhost:8080/"
        }
      },
      "outputs": [
        {
          "output_type": "stream",
          "name": "stdout",
          "text": [
            "Successfully loaded lenet\n",
            "Successfully loaded resnet\n"
          ]
        }
      ],
      "source": [
        "lenet = LeNet()\n",
        "resnet = ResNet()\n",
        "\n",
        "models = [lenet, resnet]"
      ]
    },
    {
      "cell_type": "markdown",
      "metadata": {
        "id": "Te6_wQw7CnuU"
      },
      "source": [
        "## Vorhersage Funktion"
      ]
    },
    {
      "cell_type": "markdown",
      "metadata": {
        "id": "c9j3Ql7JCnuU"
      },
      "source": [
        "##vereinfachen\n",
        "\n",
        "Da wir in der Lage sein wollen die selbe Methode auf unterschiedliche Image Classfier anzuwenden, sind für uns nur die Inputs und Outputs der Netzwerke von Bedeutung. Das heißt wir behandeln die KI als \"Black-Box\" Algorithmus.\n",
        "\n",
        "Bei den Outputs sind hier vorallem die Prediction Probabilities wichtig. Diese geben an wie Wahrscheinlich unterschiedliche Klassen, nach wissen des Netzwerkes, sind.\n",
        "\n",
        "Diese Funktion verwendet nun die ``predict`` Funktion eines Keras KI-Modells.\n",
        "In dieser werden nun die Prediction Probalility einer Zielklasse `target_class` des Bildes ermittelt. Dieser wird auch als Confidence einer bestimmten Zielklasse bezeichnet.\n",
        "\n",
        "Ziel wird es später die Confidence der tatsächlich korrekten Klasse zu senken oder, je nach Art des Angriffs, die Confidence einer bestimmten Zielklasse zu steigern.\n",
        "\n",
        "Da wir den selben Optimierungsalgorithmus für beide Fälle verwenden wird hier eine Unterscheidung durchgeführt. Der Optimierungsalgorithmus, der die optimale Position und Farbe eines Pixels ermittelt, ist nämlich nur in der Lage ein Minimum zu finden. Dadurch wird im zweiten Fall `1-predictions` zurückgegeben."
      ]
    },
    {
      "cell_type": "code",
      "execution_count": 10,
      "metadata": {
        "id": "sdL9hkjKCnuU"
      },
      "outputs": [],
      "source": [
        "def predict_classes(xs, img, target_class, model, minimize=True):\n",
        "    # Verändern des Bildes mithilfe des Veränderungsvektor xs\n",
        "    imgs_perturbed = perturb_image(xs, img)\n",
        "    # Confidence des Netzwerkes ermittelt, mit welcher das veränderte Bild teil der Zielklasse ist\n",
        "    predictions = model.predict(imgs_perturbed)[:,target_class]\n",
        "    # Diese Funktion wird immer minimiert, deshalb wird hier zwischen zwei Fällen unterschieden\n",
        "    return predictions if minimize else 1 - predictions"
      ]
    },
    {
      "cell_type": "markdown",
      "metadata": {
        "id": "T_Sm3JBECnuU"
      },
      "source": [
        "Unten wird dieses Verhalten expemplarisch demonstiert.\n",
        "\n",
        "Dies ist ein Beispiel, indem sowohl die Position als auch die Farbe des Pixels bereits optimiert wurde."
      ]
    },
    {
      "cell_type": "code",
      "execution_count": 15,
      "metadata": {
        "scrolled": true,
        "id": "zVxMgrKZCnuU",
        "outputId": "20510059-137c-458b-8802-4464ae37be85",
        "colab": {
          "base_uri": "https://localhost:8080/",
          "height": 321
        }
      },
      "outputs": [
        {
          "output_type": "stream",
          "name": "stdout",
          "text": [
            "1/1 [==============================] - 0s 30ms/step\n",
            "1/1 [==============================] - 0s 26ms/step\n",
            "Confidence der korrekten Klasse bird ist 0.00018887446 %\n",
            "Vorherige confidence war 0.70661753 %\n"
          ]
        },
        {
          "output_type": "display_data",
          "data": {
            "text/plain": [
              "<Figure size 432x288 with 1 Axes>"
            ],
            "image/png": "[encoded data removed]"
          },
          "metadata": {}
        }
      ],
      "source": [
        "image_id = 384\n",
        "pixel = np.array([16, 13,  25, 48, 156])\n",
        "model = resnet\n",
        "\n",
        "true_class = y_test[image_id, 0]\n",
        "prior_confidence = model.predict_one(x_test[image_id])[true_class]\n",
        "confidence = predict_classes(pixel, x_test[image_id], true_class, model)[0]\n",
        "\n",
        "print('Confidence der korrekten Klasse', class_names[true_class], 'ist', confidence,'%')\n",
        "print('Vorherige confidence war', prior_confidence, '%')\n",
        "helper.plot_image(perturb_image(pixel, x_test[image_id])[0])"
      ]
    },
    {
      "cell_type": "markdown",
      "source": [
        "# Teil 2"
      ],
      "metadata": {
        "id": "1ncbwX59WwpC"
      }
    },
    {
      "cell_type": "markdown",
      "metadata": {
        "id": "ufoz2C39CnuV"
      },
      "source": [
        "## Der Angriff"
      ]
    },
    {
      "cell_type": "markdown",
      "metadata": {
        "id": "sEE-zXWACnuV"
      },
      "source": [
        "Nun können wir den eigentlichen Angriff aufbauen."
      ]
    },
    {
      "cell_type": "markdown",
      "metadata": {
        "id": "HCMoeWW_CnuV"
      },
      "source": [
        "### Targeted vs. Untargeted Attacks"
      ]
    },
    {
      "cell_type": "markdown",
      "metadata": {
        "id": "Pw6ku3a4CnuV"
      },
      "source": [
        "## Raus\n",
        "\n",
        "Es wird hier zwischen zwei Angriffsarten unterschieden:\n",
        "1. Untargeted Attack\n",
        "2. Targetet Attack"
      ]
    },
    {
      "cell_type": "markdown",
      "source": [
        "Bei Untargetet Attacks (ungezielter Angriff) ist das Ziel ein Bild falsch zu klassifieren. Das heißt wir wollen durch die Veränderung eines oder mehrerer Pixel das Netzwerk dazu bringen, das es das original Bild nicht mehr der richtigen Kategorie zuordnet.\n",
        "Dazu soll die Confidence der korrekten Klasse so weit gesenkt werden das eine beliebige andere Klasse nun als wahrscheinlichste Klasse erkannt wird.\n",
        "Welche Klasse dies ist spielt dabei allerdings keine Rolle.\n",
        "\n",
        "Bei Targetet Attacks (gezielter Angriff) verfolgen wir das Ziel, nicht nur das Bild falsch zu klassifieren, sondern das es eine bestimme Klasse erkennt.\n",
        "Der Unterschied zu untargetet Attacks besteht darin, das wir nicht versuchen die Confidence der korrekten Klasse zu schwächen, sondern die Confidence einer bestimmten anderen Klasse zu stärken.\n",
        "\n",
        "Diese Unterscheidung ist der Grund wieso wir bei ``predict_class()`` Funktion zwei Fälle unterschieden haben."
      ],
      "metadata": {
        "id": "x1heGcd7qxEg"
      }
    },
    {
      "cell_type": "markdown",
      "metadata": {
        "id": "Y7VHgXfkCnuV"
      },
      "source": [
        "### Erfolgskriterium"
      ]
    },
    {
      "cell_type": "markdown",
      "metadata": {
        "id": "ZFGc5AIRCnuV"
      },
      "source": [
        "## aus angriffs sektion raus?\n",
        "\n",
        "Nun muss eine Funktion definiert werden, welche angibt ob ein Angriff ein Erfolg war.\n",
        "Die Funktion gibt ``True`` zurück wenn der Angriff erfolgreich war.\n",
        "\n",
        "Da dies abhängig von der Art des Angriffs ist, wird ein ``targeted_attack`` flag verwendet um die zwei Angriffstypen zu unterscheiden."
      ]
    },
    {
      "cell_type": "code",
      "execution_count": null,
      "metadata": {
        "id": "1VM43auECnuV"
      },
      "outputs": [],
      "source": [
        "def attack_success(x, img, target_class, model, targeted_attack=False, verbose=False):\n",
        "    # Perturb the image with the given pixel(s) and get the prediction of the model\n",
        "    # Verändern des Bildes durch Manipulation von Pixeln\n",
        "    attack_image = perturb_image(x, img)\n",
        "\n",
        "    confidence = model.predict(attack_image)[0]\n",
        "    predicted_class = np.argmax(confidence)\n",
        "    \n",
        "    # gibt nur an wie die Ausgabe erfolgen soll\n",
        "    if verbose:\n",
        "        print('Confidence:', confidence[target_class])\n",
        "    # Wenn die Prediction erreicht hat was unser Ziel ist\n",
        "    # (Targeted oder Untargeted Attack) True zurückgeben\n",
        "    if ((targeted_attack and predicted_class == target_class) or\n",
        "        (not targeted_attack and predicted_class != target_class)):\n",
        "        return True\n",
        "    # ist der Angriff kein Erfolg wird None zurückgegeben, dies wird für die Optimierung wichtig (eigenheit von SciPy)"
      ]
    },
    {
      "cell_type": "markdown",
      "metadata": {
        "id": "U0_Hd8iwCnuV"
      },
      "source": [
        "## mir codeblock raus?\n",
        "\n",
        "Unten wird gezeigt wie die Funktion funktioniert.\n",
        "\n",
        "Die Ausgabe ist sehr ähnlich zu ``predict_class()``, allerdings wird ermittelt ob der Angriff erfolgreich war."
      ]
    },
    {
      "cell_type": "code",
      "execution_count": null,
      "metadata": {
        "id": "mmOXQh2bCnuW",
        "outputId": "5f6bd652-b440-4c42-dff2-c401d656041e",
        "colab": {
          "base_uri": "https://localhost:8080/",
          "height": 339
        }
      },
      "outputs": [
        {
          "output_type": "stream",
          "name": "stdout",
          "text": [
            "1/1 [==============================] - 0s 30ms/step\n",
            "1/1 [==============================] - 0s 31ms/step\n",
            "Confidence: 0.07460071\n",
            "Prior confidence 0.50054216\n",
            "Attack success: True\n"
          ]
        },
        {
          "output_type": "display_data",
          "data": {
            "text/plain": [
              "<Figure size 432x288 with 1 Axes>"
            ],
            "image/png": "[encoded data removed]"
          },
          "metadata": {}
        }
      ],
      "source": [
        "image_id = 541\n",
        "pixel = np.array([17, 18, 185, 36, 215])\n",
        "model = resnet\n",
        "\n",
        "true_class = y_test[image_id, 0]\n",
        "prior_confidence = model.predict_one(x_test[image_id])[true_class]\n",
        "success = attack_success(pixel, x_test[image_id], true_class, model, verbose=True)\n",
        "\n",
        "print('Prior confidence', prior_confidence)\n",
        "print('Attack success:', success == True)\n",
        "helper.plot_image(perturb_image(pixel, x_test[image_id])[0])"
      ]
    },
    {
      "cell_type": "markdown",
      "metadata": {
        "id": "aSED6i7kCnuW"
      },
      "source": [
        "### Angriffs Funktion"
      ]
    },
    {
      "cell_type": "markdown",
      "metadata": {
        "id": "OfSTSjuDCnuW"
      },
      "source": [
        "## RAUS\n",
        "\n",
        "Nun fehlt nurnoch die eigentliche Angriffsfunktion die die optimale Position und Farbe des Pixels ermittelt, welches, je nach gewählter Angriffsstrategie, das beste Ergebnis erzielt.\n",
        "\n",
        "Zu erst muss das Optimierungsproblem klar erkenntlich sein. \n",
        "Dies ist hier unsere ``predict_classes`` Funktion, welche ein manipuliertes Bild mit einem entsprechenden Confidence Wert des Image Detection Netzwerks verknüpft.\n",
        "\n",
        "Da es sich hierbei um einen blakc-box Angriff handelt, sind Optimierungsmodelle die auf gradient-descend basieren schwierig umzusetzen, da diese sich darauf verlassen das die \"Kurve\" der zu optmierenden Funktion glatt ist.\n",
        "Da hier aber mit Integerwerten sowohl für die X und Y Positionen des Pixels als auch für desen R, G, B Werte verwendet werden, können wir davon ausgehen das die Optimierungskurve nicht glatt sondern sehr ungleichmäßig sein wird.\n",
        "\n",
        "Man kann sich aber die Funktionsweise wiefolgt vorstellen:\n",
        "\n",
        "Zuerst werden verschiedene Werte für die Parameter (X,Y,R,G,B) getestet und die resultiertende Confidence des Netzwerkes wird ermittelt.\n",
        "\n",
        "Stellt man sich nun jeden Parameter als Dimension im Raum vor so erhält man dann einen Graphen, welche das Optimierungsproblem darstellt.\n",
        "\n",
        "Die Aufgabe des Optimierungsalgorithmus besteht nun darin, in möglichst wenigen Schritten das globale Minimum des Graphen (entlang der Confidence-Achse) zu finden.\n",
        "Das heißt er sucht die perfekten Werte für alle Parameter, bis zu dem Grad an dem wir definiert haben wann er aufhören kann, nämlich wenn der Angriff erfolgreich war.\n",
        "\n",
        "Für dies bei einer unebenen Funktion zu erreichen verwenden wir hier den so genannten [differential evolution](https://en.wikipedia.org/wiki/Differential_evolution) Algorithmus.\n",
        "\n",
        "Das Bild zeigt die Anwendung dieses Algorithmus, zur besseren Vorstellung, für die Optimierung der sogenannten [Ackley function](https://en.wikipedia.org/wiki/Ackley_function). \n",
        "Dabei handelt es sich um ein Optimierungsproblem aus der Mathematik mit nur zwei Inputparametern, weshalb der Graph noch darstellbar ist.\n",
        "\n",
        "\n",
        "<br>\n",
        "\n",
        "![Ackley GIF](https://github.com/hyperparticle/one-pixel-attack-keras/blob/master/images/Ackley.gif?raw=1)\n",
        "\n",
        "<br>\n",
        "\n",
        "\n",
        "Der Differential Evolution Algorithmus ist ein auf Evolution basierender Algorithmus. Hierbei werden Vektoren, welche die einzelnen Parameter enhalten als Input benutzt. \n",
        "\n",
        "Grober Ablauf:\n",
        "\n",
        "1. Zu Beginn werden zufällig eine vordefinierte Menge solcher Vektoren erzeugt\n",
        "2. Zu jedem dieser Vektoren wird dann die Confidence das Image-Detection Modells errechnet.\n",
        "3. Durch Zusammenfügen (Mutation) mehrerer dieser Vektoren werden dann neue Vektoren erzeugt\n",
        "4. schneiden die neuen Vektoren besser ab als Teile der Eltern-Vektoren so ersetzen sie diese\n",
        "5. ab Schritt 2 wiederholen bis das ``attack_success`` Kriterium erfüllt ist\n",
        "\n",
        "Im Fall des One-Pixel Attacks ist der Input ein eindimensionaler Vektor der veränderten Pixel\n",
        "\n",
        "$$X = (x_1, y_1, r_1, g_1, b_1, x_2, y_2, r_2, g_2, b_2, ...)$$\n",
        "\n",
        "Dann muss die erste Generation an zufällig gewählten Pixeln erzeugt werden\n",
        "\n",
        "$$\\textbf{P} = (X_1, X_2, \\dots, X_n)$$\n",
        "\n",
        "Die mutierten Kinder dieser Generation werden erzeugt durch\n",
        "\n",
        "$$X_i = X_{r1} + F (X_{r2} - X_{r3})$$\n",
        "\n",
        "Wobei $r1 \\neq r2 \\neq r3$ erfüllt sein muss. $r1,r2,r3$ stellen dabei zufällig gewählte Indizes der Population $\\textbf{P}$ dar. $F = 0.5$ ist der Mutationsparameter, der angibt wie genau der neue Vektor zusammengesetzt ist.\n",
        "\n",
        "Hier wird eine [leicht angepasst Version](differential_evolution.py) des [Scipy Differential Evolution](https://docs.scipy.org/doc/scipy-0.17.0/reference/generated/scipy.optimize.differential_evolution.html) Algorithmus verwendet um die GPU-Beschleunigung besser nutzbar zu machen.\n"
      ]
    },
    {
      "cell_type": "code",
      "execution_count": null,
      "metadata": {
        "id": "7rlzqXpqSgrW"
      },
      "outputs": [],
      "source": [
        "def attack(img_id, model, target=None, pixel_count=1, \n",
        "           maxiter=75, popsize=400, verbose=False):\n",
        "    # Zielklasse muss angepasst werden, je nachdem ob targeted oder untargeted attack\n",
        "    targeted_attack = target is not None\n",
        "    target_class = target if targeted_attack else y_test[img_id, 0]\n",
        "    \n",
        "    # der Algorithmus benötigt die Grenzwerte aller Parameter (x,y,r,g,b)\n",
        "    # sollen mehrere Pixel verändert werden wird die bounds liste so oft wiederholt\n",
        "    bounds = [(0,32), (0,32), (0,256), (0,256), (0,256)] * pixel_count\n",
        "    \n",
        "    # Population multiplier, in terms of the size of the perturbation vector x\n",
        "    popmul = max(1, popsize // len(bounds))\n",
        "    \n",
        "    # zuvor erstellte predict_classes als zu optimierende Funktion und attack_succes als Callback umschreiben\n",
        "    def predict_fn(xs):\n",
        "        return predict_classes(xs, x_test[img_id], target_class, \n",
        "                               model, target is None)\n",
        "    \n",
        "    def callback_fn(x, convergence):\n",
        "        return attack_success(x, x_test[img_id], target_class, \n",
        "                              model, targeted_attack, verbose)\n",
        "    \n",
        "    # Aufruf des Differential Evolution Algorithmus\n",
        "    attack_result = differential_evolution(\n",
        "        predict_fn, bounds, maxiter=maxiter, popsize=popmul,\n",
        "        recombination=1, atol=-1, callback=callback_fn, polish=False)\n",
        "\n",
        "    # Nützliche Kennzahlen berechnen\n",
        "    attack_image = perturb_image(attack_result.x, x_test[img_id])[0]\n",
        "    prior_probs = model.predict_one(x_test[img_id])\n",
        "    predicted_probs = model.predict_one(attack_image)\n",
        "    predicted_class = np.argmax(predicted_probs)\n",
        "    actual_class = y_test[img_id, 0]\n",
        "    success = predicted_class != actual_class\n",
        "    cdiff = prior_probs[actual_class] - predicted_probs[actual_class]\n",
        "\n",
        "    # Ergebnisbild nach der Suche ausgeben\n",
        "    helper.plot_image(attack_image, actual_class, class_names, predicted_class)\n",
        "\n",
        "    return [model.name, pixel_count, img_id, actual_class, predicted_class, success, cdiff, prior_probs, predicted_probs, attack_result.x]"
      ]
    },
    {
      "cell_type": "markdown",
      "metadata": {
        "id": "Ir-YPvYTCnuW"
      },
      "source": [
        "#### Untargeted Attack"
      ]
    },
    {
      "cell_type": "markdown",
      "metadata": {
        "id": "620FPYBWCnuW"
      },
      "source": [
        "## RAUS\n",
        "\n",
        "Nun können wir ein Bild aus unserem Cifar10-Datensatz angreifen!\n",
        "Hier wird ein Bild mit dem untargeted Attack erfolgreich angegriffen.\n",
        "\n",
        "Probiert gerne aus ob ihr andere Bilder erfolgreich manipulieren könnt.\n",
        "Ein erneutes Ausführen der Zelle kann dabei bereits das Ergebnis beeinflussen durch das zufällige Erzeugen erste Population.\n",
        "Man kann ebenso sehen das durch verwenden mehrerer Pixel die Erfolgschance steigt.\n",
        "\n",
        "Man sieht wie die Confidence langsam sinkt, bis zu dem Punkt andem die Klasse falsch klassifiert wird."
      ]
    },
    {
      "cell_type": "code",
      "execution_count": null,
      "metadata": {
        "scrolled": false,
        "id": "ryWp-byICnuX",
        "outputId": "4b4a7029-bc73-4936-a5c5-3febcd8245f2",
        "colab": {
          "base_uri": "https://localhost:8080/",
          "height": 905
        }
      },
      "outputs": [
        {
          "output_type": "stream",
          "name": "stdout",
          "text": [
            "4/4 [==============================] - 2s 431ms/step\n",
            "4/4 [==============================] - 2s 440ms/step\n",
            "1/1 [==============================] - 0s 33ms/step\n",
            "Confidence: 0.7988974\n",
            "4/4 [==============================] - 2s 448ms/step\n",
            "1/1 [==============================] - 0s 27ms/step\n",
            "Confidence: 0.7988974\n",
            "4/4 [==============================] - 2s 444ms/step\n",
            "1/1 [==============================] - 0s 25ms/step\n",
            "Confidence: 0.7988974\n",
            "4/4 [==============================] - 2s 422ms/step\n",
            "1/1 [==============================] - 0s 33ms/step\n",
            "Confidence: 0.7988974\n",
            "4/4 [==============================] - 2s 498ms/step\n",
            "1/1 [==============================] - 0s 31ms/step\n",
            "Confidence: 0.59834874\n",
            "4/4 [==============================] - 2s 491ms/step\n",
            "1/1 [==============================] - 0s 38ms/step\n",
            "Confidence: 0.59834874\n",
            "4/4 [==============================] - 2s 435ms/step\n",
            "1/1 [==============================] - 0s 30ms/step\n",
            "Confidence: 0.5138304\n",
            "4/4 [==============================] - 2s 417ms/step\n",
            "1/1 [==============================] - 0s 26ms/step\n",
            "Confidence: 0.5138304\n",
            "4/4 [==============================] - 2s 559ms/step\n",
            "1/1 [==============================] - 0s 30ms/step\n",
            "Confidence: 0.5138304\n",
            "4/4 [==============================] - 2s 421ms/step\n",
            "1/1 [==============================] - 0s 25ms/step\n",
            "Confidence: 0.5138304\n",
            "4/4 [==============================] - 2s 415ms/step\n",
            "1/1 [==============================] - 0s 31ms/step\n",
            "Confidence: 0.41657776\n",
            "1/1 [==============================] - 0s 26ms/step\n",
            "1/1 [==============================] - 0s 31ms/step\n"
          ]
        },
        {
          "output_type": "display_data",
          "data": {
            "text/plain": [
              "<Figure size 432x288 with 1 Axes>"
            ],
            "image/png": "[encoded data removed]"
          },
          "metadata": {}
        }
      ],
      "source": [
        "image_id = 102\n",
        "pixels = 1 # Anzahl der Pixel die maximal verändert werden dürfen\n",
        "model = resnet\n",
        "\n",
        "_ = attack(image_id, model, pixel_count=pixels, verbose=True)"
      ]
    },
    {
      "cell_type": "markdown",
      "metadata": {
        "id": "x4F_nlDBCnuX"
      },
      "source": [
        "#### Targeted Attack"
      ]
    },
    {
      "cell_type": "markdown",
      "metadata": {
        "id": "7ikOq075CnuX"
      },
      "source": [
        "## RAUS\n",
        "\n",
        "Bei targeted attacks können wir wählen welche Klasse das Modell zu einem Bild erkennen soll. Diese Aufgabe ist bedeutend schwerer, also sinkt entsprechend die Trefferwahrscheinlichkeit.\n",
        "Hier wird nun versucht die Confidence der Zielklasse über 50% zu heben, da sie durch das überschreiten dieser Schwelle zur wahrscheinlichsten Klasse wird. Dies lässt sich unten beobbachten.\n",
        "\n",
        "Unten wird mit dem ``lenet`` Modell ein Bild von einem ``ship`` als ein ``automobile`` zu klassifizieren.\n",
        "Probiere die Parameter zu ändern um andere Beipiele zu finden und die Funktionsweise besser zu verstehen.\n"
      ]
    },
    {
      "cell_type": "code",
      "execution_count": null,
      "metadata": {
        "scrolled": false,
        "id": "LWVx7BnbCnuX",
        "outputId": "859f132a-dd77-41c4-b43b-53f76305c861",
        "colab": {
          "base_uri": "https://localhost:8080/",
          "height": 1000
        }
      },
      "outputs": [
        {
          "output_type": "stream",
          "name": "stdout",
          "text": [
            "Attacking with target automobile\n",
            "4/4 [==============================] - 0s 24ms/step\n",
            "4/4 [==============================] - 0s 26ms/step\n",
            "1/1 [==============================] - 0s 28ms/step\n",
            "Confidence: 0.020167617\n",
            "4/4 [==============================] - 0s 26ms/step\n",
            "1/1 [==============================] - 0s 20ms/step\n",
            "Confidence: 0.020167617\n",
            "4/4 [==============================] - 0s 22ms/step\n",
            "1/1 [==============================] - 0s 18ms/step\n",
            "Confidence: 0.024167025\n",
            "4/4 [==============================] - 0s 25ms/step\n",
            "1/1 [==============================] - 0s 21ms/step\n",
            "Confidence: 0.024167025\n",
            "4/4 [==============================] - 0s 23ms/step\n",
            "1/1 [==============================] - 0s 18ms/step\n",
            "Confidence: 0.07484922\n",
            "4/4 [==============================] - 0s 24ms/step\n",
            "1/1 [==============================] - 0s 20ms/step\n",
            "Confidence: 0.07484922\n",
            "4/4 [==============================] - 0s 25ms/step\n",
            "1/1 [==============================] - 0s 17ms/step\n",
            "Confidence: 0.07484922\n",
            "4/4 [==============================] - 0s 22ms/step\n",
            "1/1 [==============================] - 0s 17ms/step\n",
            "Confidence: 0.07484922\n",
            "4/4 [==============================] - 0s 23ms/step\n",
            "1/1 [==============================] - 0s 17ms/step\n",
            "Confidence: 0.12871696\n",
            "4/4 [==============================] - 0s 22ms/step\n",
            "1/1 [==============================] - 0s 17ms/step\n",
            "Confidence: 0.12871696\n",
            "4/4 [==============================] - 0s 24ms/step\n",
            "1/1 [==============================] - 0s 17ms/step\n",
            "Confidence: 0.12871696\n",
            "4/4 [==============================] - 0s 22ms/step\n",
            "1/1 [==============================] - 0s 20ms/step\n",
            "Confidence: 0.12871696\n",
            "4/4 [==============================] - 0s 22ms/step\n",
            "1/1 [==============================] - 0s 23ms/step\n",
            "Confidence: 0.14564835\n",
            "4/4 [==============================] - 0s 22ms/step\n",
            "1/1 [==============================] - 0s 20ms/step\n",
            "Confidence: 0.14564835\n",
            "4/4 [==============================] - 0s 27ms/step\n",
            "1/1 [==============================] - 0s 18ms/step\n",
            "Confidence: 0.16368653\n",
            "4/4 [==============================] - 0s 22ms/step\n",
            "1/1 [==============================] - 0s 17ms/step\n",
            "Confidence: 0.16368653\n",
            "4/4 [==============================] - 0s 24ms/step\n",
            "1/1 [==============================] - 0s 28ms/step\n",
            "Confidence: 0.22047552\n",
            "4/4 [==============================] - 0s 27ms/step\n",
            "1/1 [==============================] - 0s 21ms/step\n",
            "Confidence: 0.24239291\n",
            "4/4 [==============================] - 0s 24ms/step\n",
            "1/1 [==============================] - 0s 22ms/step\n",
            "Confidence: 0.24239291\n",
            "4/4 [==============================] - 0s 25ms/step\n",
            "1/1 [==============================] - 0s 24ms/step\n",
            "Confidence: 0.32944515\n",
            "4/4 [==============================] - 0s 25ms/step\n",
            "1/1 [==============================] - 0s 24ms/step\n",
            "Confidence: 0.36092976\n",
            "4/4 [==============================] - 0s 24ms/step\n",
            "1/1 [==============================] - 0s 22ms/step\n",
            "Confidence: 0.5994821\n",
            "1/1 [==============================] - 0s 24ms/step\n",
            "1/1 [==============================] - 0s 21ms/step\n"
          ]
        },
        {
          "output_type": "display_data",
          "data": {
            "text/plain": [
              "<Figure size 432x288 with 1 Axes>"
            ],
            "image/png": "[encoded data removed]"
          },
          "metadata": {}
        }
      ],
      "source": [
        "image_id = 108\n",
        "target_class = 1 # Integer Wert zwischen 0-9\n",
        "pixels = 3\n",
        "model = lenet\n",
        "\n",
        "print('Attacking with target', class_names[target_class])\n",
        "_ = attack(image_id, model, target_class, pixel_count=pixels, verbose=True)"
      ]
    },
    {
      "cell_type": "markdown",
      "metadata": {
        "id": "-LJJ4tnHCnuZ"
      },
      "source": [
        "## Conclusions"
      ]
    },
    {
      "cell_type": "markdown",
      "metadata": {
        "id": "Fa8kav8kCnuZ"
      },
      "source": [
        "## RAUS\n",
        "\n",
        "Es ist nicht sonderlich schwierig einen solchen Angriff aufzubauen, wie oben zu sehen ist. Um nun allerdings das gesammte Cifar10 Datenset anzugreifen um zu ermitteln wie robust die enthaltenen Bilder sind, sind große Mengen an Rechenresourcen und Zeit nötig. Deshalb wird dieser \"letzte\" Schritt in dieser Übung nicht näher betrachtet.\n",
        "\n",
        "Würde man ihn durchführen würde sichtbar, das die Genauigkeit des Netzwerks keine starke Korellation zu der Erfolgrate des Angriffs besitzt.\n"
      ]
    },
    {
      "cell_type": "markdown",
      "metadata": {
        "id": "-prWAhbYCnuZ"
      },
      "source": [
        "## Quellen\n",
        "- Diese Implementierung ist eine übersetze und stark angepasste Version der Implementierung von Dan Kondratyuk https://github.com/Hyperparticle/one-pixel-attack-keras\n",
        "- Due Implementierung basiert auf dem Paper welches One-Pixel Attacks beschreibt: https://arxiv.org/abs/1710.08864\n",
        "- Keras Cifar10 models: https://github.com/BIGBALLON/cifar-10-cnn\n",
        "- Scipy's differential evolution Implementierung: https://docs.scipy.org/doc/scipy/reference/generated/scipy.optimize.differential_evolution.html?highlight=differential%20evolution"
      ]
    }
  ],
  "metadata": {
    "kernelspec": {
      "display_name": "Python 3",
      "language": "python",
      "name": "python3"
    },
    "language_info": {
      "codemirror_mode": {
        "name": "ipython",
        "version": 3
      },
      "file_extension": ".py",
      "mimetype": "text/x-python",
      "name": "python",
      "nbconvert_exporter": "python",
      "pygments_lexer": "ipython3",
      "version": "3.7.1"
    },
    "colab": {
      "provenance": [],
      "include_colab_link": true
    },
    "gpuClass": "standard"
  },
  "nbformat": 4,
  "nbformat_minor": 0
}