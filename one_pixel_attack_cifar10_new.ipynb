{
  "cells": [
    {
      "cell_type": "markdown",
      "metadata": {
        "id": "view-in-github",
        "colab_type": "text"
      },
      "source": [
        "<a href=\"https://colab.research.google.com/github/Yohoh/one-pixel-attack-keras/blob/master/one_pixel_attack_cifar10_new.ipynb\" target=\"_parent\"><img src=\"https://colab.research.google.com/assets/colab-badge.svg\" alt=\"Open In Colab\"/></a>"
      ]
    },
    {
      "cell_type": "markdown",
      "metadata": {
        "id": "tcySPgFgCnuK"
      },
      "source": [
        "# Übung\n",
        "# One Pixel Attack\n",
        "## auf Basis des Cifar10 Datasets\n",
        "\n",
        "### Yannis Heim"
      ]
    },
    {
      "cell_type": "markdown",
      "source": [
        "# Teil 1"
      ],
      "metadata": {
        "id": "EZEljX_oWpSH"
      }
    },
    {
      "cell_type": "markdown",
      "source": [
        "In diesem Colab Script soll verdeutlicht werden, wie ein Angriff gegen ein Image Classifier Netzwerk durchgeführt werden kann.\n",
        "Gezeigt wird dies am Beispiel des [One Pixel Attack](https://arxiv.org/abs/1710.08864).\n",
        "\n",
        "Dabei werden die einzelnen Bestandteile und deren Implementierung genauer erläutert."
      ],
      "metadata": {
        "id": "NGhTm7aJWv-E"
      }
    },
    {
      "cell_type": "markdown",
      "metadata": {
        "id": "iMH2yukYCnuM"
      },
      "source": [
        "![](images/pred2.png \"All it takes is one pixel\")"
      ]
    },
    {
      "cell_type": "markdown",
      "source": [
        "## Colab starten"
      ],
      "metadata": {
        "id": "UnYrvG737Kbk"
      }
    },
    {
      "cell_type": "markdown",
      "source": [
        "Da in diesem Skript Code ausgeführt wird, welcher leistungsintensiv ist, sollte das Skript mit GPU Hardwarebeschleunigung ausgeführt werden.\n",
        "Dazu ist der Laufzeittyp zu ändern.\n",
        "\n",
        "Öffnet dazu das Drop-down Menu bei \"Verbinden\" und wählt \"Ressourcen ansehen\".\n",
        "Wählt dort \"Laufzeittyp ändern\" aus und stellt die Hardwarebeschleunigung auf GPU und speichert die Einstellung."
      ],
      "metadata": {
        "id": "OPslHCaVbTay"
      }
    },
    {
      "cell_type": "markdown",
      "metadata": {
        "id": "gwvUewWOCnuN"
      },
      "source": [
        "## Imports"
      ]
    },
    {
      "cell_type": "markdown",
      "metadata": {
        "id": "COWR7hM6CnuO"
      },
      "source": [
        "Zuerst müssen einige Imports installiert werden, die das Skript benötigt.\n",
        "\n",
        "Führt dazu die Codezelle unter diesem Text aus. \n",
        "Dabei wird ein GitHub Repo gecloned, in dem benötigte Methoden und KI-Modelle hinterlegt sind.\n",
        "Ebenso werden alle anderen wichtigen Imports getätigt.\n",
        "\n",
        "Der Vorteil von Jupyter Notebooks wie diesem ist es, dass eine Zelle nur einmal ausgeführt werden muss und die Ausführung in der Laufzeit des Notebooks gespeichert wird."
      ]
    },
    {
      "cell_type": "code",
      "execution_count": null,
      "metadata": {
        "id": "LEP401l7CnuO"
      },
      "outputs": [],
      "source": [
        "try:\n",
        "    import google.colab\n",
        "    in_colab = True\n",
        "except:\n",
        "    in_colab = False\n",
        "\n",
        "if in_colab:\n",
        "    !git clone https://github.com/Yohoh/one-pixel-attack-keras.git\n",
        "    !mv -v one-pixel-attack-keras/* .\n",
        "    !rm -rf one-pixel-attack-keras\n",
        "\n",
        "# Python Libraries\n",
        "%matplotlib inline\n",
        "import pickle\n",
        "import numpy as np\n",
        "import pandas as pd\n",
        "import matplotlib\n",
        "from keras.datasets import cifar10\n",
        "from keras import backend as K\n",
        "\n",
        "# Vortrainierte Netzwerke\n",
        "from networks.lenet import LeNet\n",
        "from networks.resnet import ResNet\n",
        "\n",
        "# Hilfsfunktionen\n",
        "from differential_evolution import differential_evolution\n",
        "import helper\n",
        "\n",
        "matplotlib.style.use('ggplot')\n",
        "np.random.seed(100)"
      ]
    },
    {
      "cell_type": "markdown",
      "metadata": {
        "id": "Svg2tf8eCnuQ"
      },
      "source": [
        "## Laden des Cifar10 Datasets"
      ]
    },
    {
      "cell_type": "markdown",
      "metadata": {
        "id": "BD88Dy5JCnuQ"
      },
      "source": [
        "Für unseren Angriff wird das [Cifar10 Dataset](https://www.cs.toronto.edu/~kriz/cifar.html) verwendet. Dieses Dataset enthält 32x32 Pixel große Bilder, die einer von 10 Kategorien zugeordnet sind.\n",
        "\n",
        "Der unten gezeigte Code lädt dieses Datenset.\n",
        "\n",
        "`x` enthält hierbei die einzelnen Bilder als multidimensionale Arrays.\n",
        "\n",
        "`y` beschreibt die dazugehörigen Labels wie `bird`."
      ]
    },
    {
      "cell_type": "code",
      "execution_count": null,
      "metadata": {
        "id": "pj0TFX5iCnuQ"
      },
      "outputs": [],
      "source": [
        "(x_train, y_train), (x_test, y_test) = cifar10.load_data()"
      ]
    },
    {
      "cell_type": "markdown",
      "source": [
        "Hier werden die 10 Labels der Kategorien des Cifar10 Datensets geladen."
      ],
      "metadata": {
        "id": "Acp6dGX8iyCT"
      }
    },
    {
      "cell_type": "code",
      "execution_count": 3,
      "metadata": {
        "id": "XwSwEONRCnuQ"
      },
      "outputs": [],
      "source": [
        "class_names = ['airplane', 'automobile', 'bird', 'cat', 'deer', 'dog', 'frog', 'horse', 'ship', 'truck']"
      ]
    },
    {
      "cell_type": "markdown",
      "metadata": {
        "id": "WY7RrS21CnuR"
      },
      "source": [
        "Mithilfe der `helper` Funktion können wir nun Bilder anzeigen lassen, indem wir mithilfe eines Indizes auf das `x_test` Array zugreifen.\n",
        "\n",
        "Zulässig sind Indizes von 0 bis 9999."
      ]
    },
    {
      "cell_type": "code",
      "execution_count": null,
      "metadata": {
        "id": "SnTuVEMQCnuR"
      },
      "outputs": [],
      "source": [
        "image_id = 99 # Index des Bildes aus Testset das geladen werden soll\n",
        "helper.plot_image(x_test[image_id])"
      ]
    },
    {
      "cell_type": "markdown",
      "metadata": {
        "id": "8jAkkzldCnuR"
      },
      "source": [
        "## Pixelmanipulation"
      ]
    },
    {
      "cell_type": "markdown",
      "metadata": {
        "id": "JMfebFLtCnuR"
      },
      "source": [
        "Als allererstes brauchen wir eine Funktion, die in der Lage ist, Pixel in einem Bild zu verändern.\n",
        "\n",
        "Hierzu wird jedes Pixel als 5-tupel definiert.\n",
        "\n",
        "$$\\textbf{x} = (x, y, r, g, b)$$\n",
        "\n",
        "Dabei sind $x$ und $y$ die Koordinaten des Pixels im Bild (jeweils von 0 bis 31). $r,g,b$ geben die Farbwerte des Pixels an (jeweils von 0 bis 255).\n",
        "\n",
        "Mehrere dieser Veränderungen, auch Pertubations genannt, werden wie folgt verkettet:\n",
        "\n",
        "$$X = (x_1, y_1, r_1, g_1, b_1, x_2, y_2, r_2, g_2, b_2, ...)$$\n",
        "\n",
        "Grund dafür ist, dass der Optimierungsalgorithmus, der später vorgestellt wird, ein eindimensionales Array als Eingabe erwartet.\n",
        "\n",
        "Zumsammengefasst bedeutet das, dass die Funktion ein Bild sowie den Pertubationvektor $X$ als Eingabe erhält und als Ausgabe ein Bild produziert, welches die veränderten Pixel enthält.\n",
        "\n",
        "Da es später notwendig ist, dass aus einem Bild viele Versionen mit unterschiedlichen Pixelmanipulationen erzeugt werden, fasst man mehrere Pertubations zu $X_S$ zusammen.\n"
      ]
    },
    {
      "cell_type": "code",
      "execution_count": 5,
      "metadata": {
        "id": "Z7TRQRuiCnuS"
      },
      "outputs": [],
      "source": [
        "def perturb_image(xs, img):\n",
        "    # wenn nur ein Vektor gegeben wird,\n",
        "    # wird dieser trotzdem in ein Array der Länge 1 gepackt,\n",
        "    # damit die Berechnung gleich bleibt\n",
        "    if xs.ndim < 2:\n",
        "        xs = np.array([xs])\n",
        "    \n",
        "    # das Bild wird nun so oft kopiert wie es Veränderungen gibt (n==len(xs))\n",
        "    # um die selbe Anzahl an veränderten Bildern zu erhalten (n veränderte Bilder)\n",
        "    tile = [len(xs)] + [1]*(xs.ndim+1)\n",
        "    imgs = np.tile(img, tile)\n",
        "    \n",
        "    # Sichert zu, dass Inhalt von xs nur aus Integer Werten besteht\n",
        "    xs = xs.astype(int)\n",
        "    \n",
        "    for x,img in zip(xs, imgs):\n",
        "        # nun wird der Veränderungsvektor in seine einzelnen 5-tupel Bestandteile zerlegt\n",
        "        # z.b. [[x,y,r,g,b],[x2,y2,r2,g2,b2], ...]\n",
        "        pixels = np.split(x, len(x) // 5)\n",
        "        for pixel in pixels:\n",
        "            # nun wird dem Pixel sein neuer RGB Wert zugewiesen\n",
        "            x_pos, y_pos, *rgb = pixel\n",
        "            img[x_pos, y_pos] = rgb\n",
        "    \n",
        "    return imgs"
      ]
    },
    {
      "cell_type": "markdown",
      "metadata": {
        "id": "UqvvHkh8CnuS"
      },
      "source": [
        "Jetzt sind wir in der Lage, jedes Pixel eines Bildes zu verändern."
      ]
    },
    {
      "cell_type": "code",
      "execution_count": null,
      "metadata": {
        "id": "TpEEJBvdCnuS"
      },
      "outputs": [],
      "source": [
        "image_id = 99\n",
        "pixel = np.array([16, 16, 255, 255, 0]) # pixel = x,y,r,g,b\n",
        "image_perturbed = perturb_image(pixel, x_test[image_id])[0]\n",
        "\n",
        "helper.plot_image(image_perturbed)"
      ]
    },
    {
      "cell_type": "markdown",
      "metadata": {
        "id": "h1l2xV87CnuS"
      },
      "source": [
        "## Laden von vortrainierten KI-Modellen"
      ]
    },
    {
      "cell_type": "markdown",
      "metadata": {
        "id": "sMpkMJpHCnuT"
      },
      "source": [
        "Um überhaupt einen Angriff auszuführen, brauchen wir erst ein KI-Netzwerk.\n",
        "Hier sind 2 Netzwerke enthalten, LeNet und ResNet.\n",
        "Diese sind bereits auf das Cifar10 Datenset trainiert.\n"
      ]
    },
    {
      "cell_type": "code",
      "execution_count": null,
      "metadata": {
        "id": "54QazdCcCnuT"
      },
      "outputs": [],
      "source": [
        "lenet = LeNet()\n",
        "resnet = ResNet()\n",
        "\n",
        "models = [lenet, resnet]"
      ]
    },
    {
      "cell_type": "markdown",
      "metadata": {
        "id": "Te6_wQw7CnuU"
      },
      "source": [
        "## Vorhersage Funktion"
      ]
    },
    {
      "cell_type": "markdown",
      "metadata": {
        "id": "c9j3Ql7JCnuU"
      },
      "source": [
        "Da wir in der Lage sein wollen, die selbe Methode auf unterschiedliche Image Classfier anzuwenden, sind für uns nur die Inputs und Outputs der Netzwerke von Bedeutung. Das heißt, wir behandeln die KI als \"Black-Box\" Algorithmus.\n",
        "\n",
        "Bei den Outputs ist vorallem die Confidence von Bedeutung. Diese gibt an, wie sicher sich ein Netzwerk mit seiner Zuordnung eines Bildes zu einer bestimmten Klasse ist.\n",
        "\n",
        "Diese Methode verwendet nun die `predict` Funktion eines Keras KI-Modells.\n",
        "\n",
        "Ziel wird es später, die Confidence der tatsächlich korrekten Klasse zu senken oder, je nach Art des Angriffs, die Confidence einer bestimmten anderen Zielklasse zu steigern.\n",
        "\n",
        "Da wir den selben Optimierungsalgorithmus für beide Fälle verwenden, wird hier eine Unterscheidung durchgeführt. Der Optimierungsalgorithmus, der die optimale Position und Farbe eines Pixels ermittelt, ist nur in der Lage, ein Minimum zu finden. Dadurch wird im zweiten Fall `1-predictions` zurückgegeben."
      ]
    },
    {
      "cell_type": "code",
      "execution_count": 8,
      "metadata": {
        "id": "sdL9hkjKCnuU"
      },
      "outputs": [],
      "source": [
        "def predict_classes(xs, img, target_class, model, minimize=True):\n",
        "    # Verändern des Bildes mithilfe des Pertubationvektors xs\n",
        "    imgs_perturbed = perturb_image(xs, img)\n",
        "    # Confidence des Netzwerkes wird ermittelt, mit welcher das veränderte Bild Teil der Zielklasse ist\n",
        "    predictions = model.predict(imgs_perturbed)[:,target_class]\n",
        "    # Diese Funktion wird immer minimiert, deshalb wird hier zwischen zwei Fällen unterschieden\n",
        "    return predictions if minimize else 1 - predictions"
      ]
    },
    {
      "cell_type": "markdown",
      "metadata": {
        "id": "T_Sm3JBECnuU"
      },
      "source": [
        "Unten wird dieses Verhalten exemplarisch demonstriert.\n",
        "\n",
        "In diesem Beispiel, wurden sowohl die Position als auch die Farbe des Pixels bereits optimiert."
      ]
    },
    {
      "cell_type": "code",
      "execution_count": null,
      "metadata": {
        "scrolled": true,
        "id": "zVxMgrKZCnuU"
      },
      "outputs": [],
      "source": [
        "image_id = 384\n",
        "pixel = np.array([16, 13,  25, 48, 156])\n",
        "model = resnet\n",
        "\n",
        "true_class = y_test[image_id, 0]\n",
        "prior_confidence = model.predict_one(x_test[image_id])[true_class]\n",
        "confidence = predict_classes(pixel, x_test[image_id], true_class, model)[0]\n",
        "\n",
        "print('Confidence in true class ', class_names[true_class], 'is', confidence,'%')\n",
        "print('Prior Confidence was ', prior_confidence, '%')\n",
        "helper.plot_image(perturb_image(pixel, x_test[image_id])[0])"
      ]
    },
    {
      "cell_type": "markdown",
      "source": [
        "# Teil 2"
      ],
      "metadata": {
        "id": "1ncbwX59WwpC"
      }
    },
    {
      "cell_type": "markdown",
      "metadata": {
        "id": "sEE-zXWACnuV"
      },
      "source": [
        "## Der Angriff\n",
        "Nun können wir den eigentlichen Angriff aufbauen."
      ]
    },
    {
      "cell_type": "markdown",
      "metadata": {
        "id": "ZFGc5AIRCnuV"
      },
      "source": [
        "### Erfolgskriterium\n",
        "\n",
        "Nun muss eine Funktion definiert werden, welche angibt, ob ein Angriff erfolgreich war.\n",
        "\n",
        "Da dies abhängig von der Art des Angriffs ist, wird ein ``targeted_attack`` Flag verwendet, um die zwei Angriffstypen zu unterscheiden."
      ]
    },
    {
      "cell_type": "code",
      "execution_count": 10,
      "metadata": {
        "id": "1VM43auECnuV"
      },
      "outputs": [],
      "source": [
        "def attack_success(x, img, target_class, model, targeted_attack=False, verbose=False):\n",
        "    # Verändern des Bildes durch Manipulation von Pixeln\n",
        "    attack_image = perturb_image(x, img)\n",
        "\n",
        "    confidence = model.predict(attack_image)[0]\n",
        "    predicted_class = np.argmax(confidence)\n",
        "    \n",
        "    # gibt nur an, wie die Ausgabe erfolgen soll\n",
        "    if verbose:\n",
        "        print('Confidence:', confidence[target_class])\n",
        "    # Wenn der Angriff erfolgreich war, wird True zurückgegeben\n",
        "    if ((targeted_attack and predicted_class == target_class) or\n",
        "        (not targeted_attack and predicted_class != target_class)):\n",
        "        return True\n",
        "    # ist der Angriff kein Erfolg, wird None zurückgegeben, dies wird für die Optimierung wichtig (Eigenheit von SciPy)"
      ]
    },
    {
      "cell_type": "markdown",
      "metadata": {
        "id": "U0_Hd8iwCnuV"
      },
      "source": [
        "Unten wird die Funktionsweise demonstriert."
      ]
    },
    {
      "cell_type": "code",
      "execution_count": null,
      "metadata": {
        "id": "mmOXQh2bCnuW"
      },
      "outputs": [],
      "source": [
        "image_id = 541\n",
        "pixel = np.array([17, 18, 185, 36, 215])\n",
        "model = resnet\n",
        "\n",
        "true_class = y_test[image_id, 0]\n",
        "prior_confidence = model.predict_one(x_test[image_id])[true_class]\n",
        "success = attack_success(pixel, x_test[image_id], true_class, model, verbose=True)\n",
        "\n",
        "print('Prior Confidence was', prior_confidence,'%')\n",
        "print('Attack success:', success == True)\n",
        "helper.plot_image(perturb_image(pixel, x_test[image_id])[0])"
      ]
    },
    {
      "cell_type": "markdown",
      "metadata": {
        "id": "OfSTSjuDCnuW"
      },
      "source": [
        "### Angriffsfunktion\n",
        "\n",
        "Nun fehlt nur noch die eigentliche Angriffsfunktion, welche die oben entwickelten Methoden mit dem Differential Evolution Optimierungsalgorithmus zusammenfügt.\n",
        "\n",
        "Hier wird eine [leicht angepasste Version](differential_evolution.py) des [SciPy Differential Evolution](https://docs.scipy.org/doc/scipy-0.17.0/reference/generated/scipy.optimize.differential_evolution.html) Algorithmus verwendet, um die GPU-Beschleunigung durch Parallelisierung besser nutzbar zu machen.\n",
        "\n",
        "Die zu optimierende Funktion ist hierbei die `predict_classes` Methode, welche minimiert werden soll.\n",
        "\n",
        "\n"
      ]
    },
    {
      "cell_type": "code",
      "execution_count": 13,
      "metadata": {
        "id": "7rlzqXpqSgrW"
      },
      "outputs": [],
      "source": [
        "def attack(img_id, model, target=None, pixel_count=1, \n",
        "           maxiter=75, popsize=400, verbose=False):\n",
        "    # Zielklasse muss angepasst werden, je nachdem, ob targeted oder untargeted attack\n",
        "    targeted_attack = target is not None\n",
        "    target_class = target if targeted_attack else y_test[img_id, 0]\n",
        "    \n",
        "    # der Algorithmus benötigt die Grenzwerte aller Parameter (x,y,r,g,b)\n",
        "    # sollen mehrere Pixel verändert werden, wird die bounds liste so oft wiederholt\n",
        "    bounds = [(0,32), (0,32), (0,256), (0,256), (0,256)] * pixel_count\n",
        "    \n",
        "    # werden mehrere Pixel verändert, wird die Anzahl der Mitglieder der ersten Population entsprechend gesenkt\n",
        "    popmul = max(1, popsize // len(bounds))\n",
        "    \n",
        "    # die zuvor erstellte predict_classes Methode wird als zu optimierende Funktion und attack_succes als Callback umgeschrieben\n",
        "    def predict_fn(xs):\n",
        "        return predict_classes(xs, x_test[img_id], target_class, \n",
        "                               model, target is None)\n",
        "    \n",
        "    def callback_fn(x, convergence):\n",
        "        return attack_success(x, x_test[img_id], target_class, \n",
        "                              model, targeted_attack, verbose)\n",
        "    \n",
        "    # Aufruf des Differential Evolution Algorithmus\n",
        "    attack_result = differential_evolution(\n",
        "        predict_fn, bounds, maxiter=maxiter, popsize=popmul,\n",
        "        recombination=1, atol=-1, callback=callback_fn, polish=False)\n",
        "\n",
        "    # Nützliche Kennzahlen berechnen\n",
        "    attack_image = perturb_image(attack_result.x, x_test[img_id])[0]\n",
        "    predicted_probs = model.predict_one(attack_image)\n",
        "    predicted_class = np.argmax(predicted_probs)\n",
        "    actual_class = y_test[img_id, 0]\n",
        "\n",
        "    # Ergebnisbild nach der Suche ausgeben\n",
        "    helper.plot_image(attack_image, actual_class, class_names, predicted_class)"
      ]
    },
    {
      "cell_type": "markdown",
      "metadata": {
        "id": "620FPYBWCnuW"
      },
      "source": [
        "### Untargeted Attack\n",
        "\n",
        "Nun können wir ein Bild aus dem Cifar10-Datensatz angreifen!\n",
        "Hier wird ein Bild mit einem untargeted Attack erfolgreich angegriffen.\n",
        "Man sieht, wie die Confidence langsam sinkt, bis das Bild falsch klassifiziert wird.\n",
        "\n",
        "Probiert aus, ob ihr andere Bilder erfolgreich manipulieren könnt.\n",
        "\n"
      ]
    },
    {
      "cell_type": "code",
      "execution_count": null,
      "metadata": {
        "scrolled": false,
        "id": "ryWp-byICnuX"
      },
      "outputs": [],
      "source": [
        "image_id = 102\n",
        "pixels = 1 # Anzahl der Pixel, die maximal verändert werden dürfen\n",
        "model = resnet\n",
        "\n",
        "_ = attack(image_id, model, pixel_count=pixels, verbose=True)"
      ]
    },
    {
      "cell_type": "markdown",
      "metadata": {
        "id": "7ikOq075CnuX"
      },
      "source": [
        "### Targeted Attack\n",
        "\n",
        "Unten wird mit dem `LeNet` Modell ein Bild der Klasse `ship` als ein `automobile` erkannt.\n",
        "\n",
        "Probiert die Parameter zu ändern, um andere Beispiele zu finden.\n"
      ]
    },
    {
      "cell_type": "code",
      "execution_count": null,
      "metadata": {
        "scrolled": false,
        "id": "LWVx7BnbCnuX"
      },
      "outputs": [],
      "source": [
        "image_id = 108\n",
        "# Zielklasse als Integer Index zwischen 0 und 9\n",
        "# 0 = airplane, 1 = automobile, 2 = bird, 3 = cat, 4 = deer, 5 = dog, 6 = frog, 7 = horse, 8 = ship, 9 = truck\n",
        "target_class = 1\n",
        "pixels = 3\n",
        "model = lenet\n",
        "\n",
        "print('Attacking with target', class_names[target_class])\n",
        "_ = attack(image_id, model, target_class, pixel_count=pixels, verbose=True)"
      ]
    }
  ],
  "metadata": {
    "kernelspec": {
      "display_name": "Python 3",
      "language": "python",
      "name": "python3"
    },
    "language_info": {
      "codemirror_mode": {
        "name": "ipython",
        "version": 3
      },
      "file_extension": ".py",
      "mimetype": "text/x-python",
      "name": "python",
      "nbconvert_exporter": "python",
      "pygments_lexer": "ipython3",
      "version": "3.7.1"
    },
    "colab": {
      "provenance": [],
      "include_colab_link": true
    },
    "gpuClass": "standard",
    "accelerator": "GPU"
  },
  "nbformat": 4,
  "nbformat_minor": 0
}